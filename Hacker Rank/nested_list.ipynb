{
  "nbformat": 4,
  "nbformat_minor": 0,
  "metadata": {
    "colab": {
      "name": "nested-list.ipynb",
      "provenance": []
    },
    "kernelspec": {
      "name": "python3",
      "display_name": "Python 3"
    },
    "language_info": {
      "name": "python"
    }
  },
  "cells": [
    {
      "cell_type": "markdown",
      "source": [
        "Given the names and grades for each student in a class of N students, store them in a nested list and print the name(s) of any student(s) having the second lowest grade.\n",
        "\n",
        "Note: If there are multiple students with the second lowest grade, order their names alphabetically and print each name on a new line.\n",
        "\n",
        "Example\n",
        "\n",
        "The ordered list of scores is [20,50] , so the second lowest score is[50] . There are two students with that score: [\"beta\",\"alpha\"]. Ordered alphabetically, the names are printed as:\n",
        "\n",
        "alpha\n",
        "beta\n",
        "Input Format\n",
        "\n",
        "The first line contains an integer,N, the number of students.\n",
        "The  subsequent lines describe each student over 2 lines.\n",
        "- The first line contains a student's name.\n",
        "- The second line contains their grade.\n",
        "\n",
        "Constraints\n",
        "2<=N<=5\n",
        "\n",
        "There will always be one or more students having the second lowest grade.\n",
        "Output Format\n",
        "\n",
        "Print the name(s) of any student(s) having the second lowest grade in. If there are multiple students, order their names alphabetically and print each one on a new line.\n",
        "\n",
        "Sample Input 0\n",
        "\n",
        "5\n",
        "Harry\n",
        "37.21\n",
        "Berry\n",
        "37.21\n",
        "Tina\n",
        "37.2\n",
        "Akriti\n",
        "41\n",
        "Harsh\n",
        "39\n",
        "Sample Output 0\n",
        "\n",
        "Berry\n",
        "Harry\n",
        "Explanation 0\n",
        "\n",
        "There are  students in this class whose names and grades are assembled to build the following list:\n",
        "\n",
        "python students = [['Harry', 37.21], ['Berry', 37.21], ['Tina', 37.2], ['Akriti', 41], ['Harsh', 39]]\n",
        "\n",
        "The lowest grade of  belongs to Tina. The second lowest grade of  belongs to both Harry and Berry, so we order their names alphabetically and print each name on a new line."
      ],
      "metadata": {
        "id": "QnabqrNo-iRc"
      }
    },
    {
      "cell_type": "code",
      "source": [
        "n=int(input())\n",
        "ls=[]\n",
        "l=[]\n",
        "for i in range(n):\n",
        "    name = input()\n",
        "    score = float(input())\n",
        "    ls.append([name,score])\n",
        "    l.append(score)\n"
      ],
      "metadata": {
        "colab": {
          "base_uri": "https://localhost:8080/"
        },
        "id": "hn-ZhpI06Y75",
        "outputId": "1d8fcf3d-cf50-42cc-bf96-eb5546cfffdc"
      },
      "execution_count": 70,
      "outputs": [
        {
          "name": "stdout",
          "output_type": "stream",
          "text": [
            "5\n",
            "Harry\n",
            "37.21\n",
            "Berry\n",
            "37.21\n",
            "Tina\n",
            "37.2\n",
            "Akriti\n",
            "41\n",
            "Harsh\n",
            "39\n"
          ]
        }
      ]
    },
    {
      "cell_type": "code",
      "source": [
        "a=sorted(list(set(l)))[1]\n",
        "names=[]\n",
        "for i in range(len(ls)):\n",
        "    if a==ls[i][1]:\n",
        "      names.append(ls[i][0])\n",
        "N=sorted(names)\n",
        "for i in range(len(N)):\n",
        "       print(N[i])"
      ],
      "metadata": {
        "colab": {
          "base_uri": "https://localhost:8080/"
        },
        "id": "Gr4MOHBN90DF",
        "outputId": "32b1e05f-70c5-493e-98fb-5aaf79ee533f"
      },
      "execution_count": 71,
      "outputs": [
        {
          "output_type": "stream",
          "name": "stdout",
          "text": [
            "Berry\n",
            "Harry\n"
          ]
        }
      ]
    }
  ]
}