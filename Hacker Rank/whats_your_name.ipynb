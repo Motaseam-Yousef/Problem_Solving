{
  "nbformat": 4,
  "nbformat_minor": 0,
  "metadata": {
    "colab": {
      "name": "whats-your-name.ipynb",
      "provenance": []
    },
    "kernelspec": {
      "name": "python3",
      "display_name": "Python 3"
    },
    "language_info": {
      "name": "python"
    }
  },
  "cells": [
    {
      "cell_type": "markdown",
      "source": [
        "Hello firstname lastname! You just delved into python.\n",
        "\n",
        "Function Description\n",
        "\n",
        "Complete the print_full_name function in the editor below.\n",
        "\n",
        "print_full_name has the following parameters:\n",
        "\n",
        "string first: the first name\n",
        "string last: the last name\n",
        "Prints\n",
        "\n",
        "string: 'Hello  ! You just delved into python' where  and  are replaced with  and .\n",
        "Input Format\n",
        "\n",
        "The first line contains the first name, and the second line contains the last name.\n",
        "\n",
        "Constraints\n",
        "\n",
        "The length of the first and last names are each ≤ .\n",
        "\n",
        "Sample Input 0\n",
        "\n",
        "Ross\n",
        "Taylor\n",
        "Sample Output 0\n",
        "\n",
        "Hello Ross Taylor! You just delved into python.\n",
        "Explanation 0\n",
        "\n",
        "The input read by the program is stored as a string data type. A string is a collection of characters."
      ],
      "metadata": {
        "id": "cq3I2HDLtN4s"
      }
    },
    {
      "cell_type": "code",
      "source": [
        "#\n",
        "# Complete the 'print_full_name' function below.\n",
        "#\n",
        "# The function is expected to return a STRING.\n",
        "# The function accepts following parameters:\n",
        "#  1. STRING first\n",
        "#  2. STRING last\n",
        "#\n",
        "\n",
        "def print_full_name(first, last):\n",
        "    # Write your code here\n",
        "    full=first+\" \"+last\n",
        "    print(\"Hello {}! You just delved into python.\".format(full))\n",
        "    \n",
        "\n",
        "if __name__ == '__main__':\n",
        "    first_name = input()\n",
        "    last_name = input()\n",
        "    print_full_name(first_name, last_name)"
      ],
      "metadata": {
        "colab": {
          "base_uri": "https://localhost:8080/"
        },
        "id": "BSwAmJpKtOFH",
        "outputId": "fc30a061-d2bc-484c-b273-59ae9bceb4fd"
      },
      "execution_count": 1,
      "outputs": [
        {
          "output_type": "stream",
          "name": "stdout",
          "text": [
            "Ross\n",
            "Taylor\n",
            "Hello Ross Taylor! You just delved into python.\n"
          ]
        }
      ]
    }
  ]
}