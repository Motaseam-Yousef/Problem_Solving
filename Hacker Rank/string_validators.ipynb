{
  "nbformat": 4,
  "nbformat_minor": 0,
  "metadata": {
    "colab": {
      "name": "string-validators.ipynb",
      "provenance": []
    },
    "kernelspec": {
      "name": "python3",
      "display_name": "Python 3"
    },
    "language_info": {
      "name": "python"
    }
  },
  "cells": [
    {
      "cell_type": "markdown",
      "source": [
        "Python has built-in string validation methods for basic data. It can check if a string is composed of alphabetical characters, alphanumeric characters, digits, etc.\n",
        "\n",
        "str.isalnum()\n",
        "This method checks if all the characters of a string are alphanumeric (a-z, A-Z and 0-9).\n",
        "\n",
        ">>> print 'ab123'.isalnum()\n",
        "True\n",
        ">>> print 'ab123#'.isalnum()\n",
        "False\n",
        "str.isalpha()\n",
        "This method checks if all the characters of a string are alphabetical (a-z and A-Z).\n",
        "\n",
        ">>> print 'abcD'.isalpha()\n",
        "True\n",
        ">>> print 'abcd1'.isalpha()\n",
        "False\n",
        "str.isdigit()\n",
        "This method checks if all the characters of a string are digits (0-9).\n",
        "\n",
        ">>> print '1234'.isdigit()\n",
        "True\n",
        ">>> print '123edsd'.isdigit()\n",
        "False\n",
        "str.islower()\n",
        "This method checks if all the characters of a string are lowercase characters (a-z).\n",
        "\n",
        ">>> print 'abcd123#'.islower()\n",
        "True\n",
        ">>> print 'Abcd123#'.islower()\n",
        "False\n",
        "str.isupper()\n",
        "This method checks if all the characters of a string are uppercase characters (A-Z).\n",
        "\n",
        ">>> print 'ABCD123#'.isupper()\n",
        "True\n",
        ">>> print 'Abcd123#'.isupper()\n",
        "False\n",
        "Task\n",
        "\n",
        "You are given a string .\n",
        "Your task is to find out if the string  contains: alphanumeric characters, alphabetical characters, digits, lowercase and uppercase characters.\n",
        "\n",
        "Input Format\n",
        "\n",
        "A single line containing a string .\n",
        "\n",
        "\n",
        "Output Format\n",
        "\n",
        "In the first line, print True if  has any alphanumeric characters. Otherwise, print False.\n",
        "In the second line, print True if  has any alphabetical characters. Otherwise, print False.\n",
        "In the third line, print True if  has any digits. Otherwise, print False.\n",
        "In the fourth line, print True if  has any lowercase characters. Otherwise, print False.\n",
        "In the fifth line, print True if  has any uppercase characters. Otherwise, print False.\n",
        "\n",
        "Sample Input\n",
        "\n",
        "qA2\n",
        "Sample Output\n",
        "\n",
        "True\n",
        "True\n",
        "True\n",
        "True\n",
        "True"
      ],
      "metadata": {
        "id": "h63b1CBE1fDd"
      }
    },
    {
      "cell_type": "code",
      "source": [
        "if __name__ == '__main__':\n",
        "    s = input()\n",
        "    \n",
        "    ad=False\n",
        "    for i in s:\n",
        "      if i.isalnum()==True:\n",
        "        ad=True\n",
        "    print(ad)\n",
        "     \n",
        "    alpha=False\n",
        "    for i in s:\n",
        "        if i.isalpha()==True:\n",
        "            alpha=True\n",
        "    print(alpha) \n",
        "     \n",
        "    digital=False\n",
        "    for i in s:\n",
        "        if i.isdigit()==True:\n",
        "            digital=True\n",
        "    print(digital)\n",
        "    \n",
        "    lc=False\n",
        "    for i in s:\n",
        "        if i.islower()==True:\n",
        "            lc=True\n",
        "    print(lc)\n",
        "    \n",
        "    uc=False\n",
        "    for i in s:\n",
        "        if i.isupper()==True:\n",
        "            uc=True\n",
        "    print(uc)\n",
        "    "
      ],
      "metadata": {
        "colab": {
          "base_uri": "https://localhost:8080/"
        },
        "id": "a7K9Ue1h1h17",
        "outputId": "c72d6f41-8ec1-4f0c-891c-229b8b9f6c09"
      },
      "execution_count": 6,
      "outputs": [
        {
          "output_type": "stream",
          "name": "stdout",
          "text": [
            "#$%@^&*kjnk svskjnbui h 4oi3hheuh /dfh uidshvhdsuihv suihc 0hrem89m4c02mw4xo;,wh fwhncoishmxlxfkjsahnxu83v 08 n8OHOIHIOMOICWHOFCMHEOFMCOEJMC0J09C 03J J3L;JMFC3JM3JC3'JIOO9MMJ099U N090N9 OOHOLNHNLLKNLKNKNNNNNNNNNNNNNNNNNNNNNNNNNNNNNNNNNNNNNNNNNNNNNNNNNNNNNNNNNNNNNNNNNNNNNNNNNNNNNNNNNNNNNNNNNNNNNNNNNNNNNKKKKKKKKKKKKKKKKKKKKKKKKKKKKKKKKKKKKKKKKKKKKKKKKKKKKKKKKKKKKKKKKKKKKKKKKKKKKKKKKK3333333333333333333333333333333333333333333333333333333333333333333333333333333333333333333333333000000000000000000000000000000000000000000000000000000000000000000000000000\n",
            "True\n",
            "True\n",
            "True\n",
            "True\n",
            "True\n"
          ]
        }
      ]
    }
  ]
}