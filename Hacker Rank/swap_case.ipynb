{
  "nbformat": 4,
  "nbformat_minor": 0,
  "metadata": {
    "colab": {
      "name": "swap-case.ipynb",
      "provenance": []
    },
    "kernelspec": {
      "name": "python3",
      "display_name": "Python 3"
    },
    "language_info": {
      "name": "python"
    }
  },
  "cells": [
    {
      "cell_type": "markdown",
      "source": [
        "You are given a string and your task is to swap cases. In other words, convert all lowercase letters to uppercase letters and vice versa.\n",
        "\n",
        "For Example:\n",
        "\n",
        "Www.HackerRank.com → wWW.hACKERrANK.COM\n",
        "Pythonist 2 → pYTHONIST 2  \n",
        "Function Description\n",
        "\n",
        "Complete the swap_case function in the editor below.\n",
        "\n",
        "swap_case has the following parameters:\n",
        "\n",
        "string s: the string to modify\n",
        "Returns\n",
        "\n",
        "string: the modified string\n",
        "Input Format\n",
        "\n",
        "A single line containing a string .\n",
        "\n",
        "Constraints\n",
        "0<len<=1000\n",
        "\n",
        "Sample Input 0\n",
        "\n",
        "HackerRank.com presents \"Pythonist 2\".\n",
        "Sample Output 0\n",
        "\n",
        "hACKERrANK.COM PRESENTS \"pYTHONIST 2\"."
      ],
      "metadata": {
        "id": "pO4uAw3oqnn1"
      }
    },
    {
      "cell_type": "code",
      "source": [
        "def swap_case(s):\n",
        "    return s.swapcase()  \n",
        "\n",
        "if __name__ == '__main__':\n",
        "    s = input()\n",
        "    result = swap_case(s)\n",
        "    print(result)"
      ],
      "metadata": {
        "colab": {
          "base_uri": "https://localhost:8080/"
        },
        "id": "6kW6_bcHqtZw",
        "outputId": "6dfe9658-a036-441e-d70a-8166987f2812"
      },
      "execution_count": 32,
      "outputs": [
        {
          "output_type": "stream",
          "name": "stdout",
          "text": [
            "HackerRank.com presents \"Pythonist 2\".\n",
            "hACKERrANK.COM PRESENTS \"pYTHONIST 2\".\n"
          ]
        }
      ]
    }
  ]
}