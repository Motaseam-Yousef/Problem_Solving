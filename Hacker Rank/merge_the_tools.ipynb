{
  "nbformat": 4,
  "nbformat_minor": 0,
  "metadata": {
    "colab": {
      "name": "merge-the-tools.ipynb",
      "provenance": []
    },
    "kernelspec": {
      "name": "python3",
      "display_name": "Python 3"
    },
    "language_info": {
      "name": "python"
    }
  },
  "cells": [
    {
      "cell_type": "markdown",
      "source": [
        "Consider the following:\n",
        "\n",
        "A string, s, of length n where .\n",
        "An integer, , where s=c0c1....cn-1  is a factor of n.\n",
        "We can split s into n/k substrings where each subtring,ti, consists of a contiguous block of k characters in s. Then, use each ti to create string ui such that:\n",
        "\n",
        "The characters in ui are a subsequence of the characters in ti.\n",
        "Any repeat occurrence of a character is removed from the string such that each character in ui occurs exactly once. In other words, if the character at some index j in ti occurs at a previous index < j in ti, then do not include the character in string ui.\n",
        "Given s and k, print n/k lines where each line  denotes string ui.\n",
        "\n",
        "Example\n",
        "\n",
        "s=\"AAABCADDE\"\n",
        "k=3\n",
        "There are three substrings of length  to consider: 'AAA', 'BCA' and 'DDE'. The first substring is all 'A' characters, so . The second substring has all distinct characters, so . The third substring has  different characters, so . Note that a subsequence maintains the original order of characters encountered. The order of characters in each subsequence shown is important.\n",
        "\n",
        "Function Description\n",
        "\n",
        "Complete the merge_the_tools function in the editor below.\n",
        "\n",
        "merge_the_tools has the following parameters:\n",
        "\n",
        "string s: the string to analyze\n",
        "int k: the size of substrings to analyze\n",
        "Prints\n",
        "\n",
        "Print each subsequence on a new line. There will be  of them. No return value is expected.\n",
        "\n",
        "Input Format\n",
        "\n",
        "The first line contains a single string, .\n",
        "The second line contains an integer, , the length of each substring.\n",
        "\n",
        "Sample Input\n",
        "\n",
        "STDIN       Function\n",
        "-----       --------\n",
        "AABCAAADA   s = 'AABCAAADA'\n",
        "3           k = 3\n",
        "Sample Output\n",
        "\n",
        "AB\n",
        "CA\n",
        "AD"
      ],
      "metadata": {
        "id": "uiiDvA_s9VlJ"
      }
    },
    {
      "cell_type": "code",
      "source": [
        "def merge_the_tools(string, k):\n",
        "    # your code goes here\n",
        "    \n",
        "    for i in range(0,len(string),k):\n",
        "        a=string[i:i+k]\n",
        "        z=list(set(a))\n",
        "        #print(a[0],end=\"\")\n",
        "        for j in range(len(a)):\n",
        "          if a[j] in z:\n",
        "            print(a[j],end=\"\")\n",
        "            z.remove(a[j])\n",
        "        print()\n",
        "\n",
        "\n",
        "\n",
        "if __name__ == '__main__':\n",
        "    string, k = input(), int(input())\n",
        "    merge_the_tools(string, k)"
      ],
      "metadata": {
        "colab": {
          "base_uri": "https://localhost:8080/"
        },
        "id": "Ngao_MsS9dcK",
        "outputId": "3c503f68-f8f4-49e2-fca7-0dcd221bc16b"
      },
      "execution_count": 34,
      "outputs": [
        {
          "output_type": "stream",
          "name": "stdout",
          "text": [
            "AABCAAADA\n",
            "3\n",
            "AB\n",
            "CA\n",
            "AD\n"
          ]
        }
      ]
    }
  ]
}