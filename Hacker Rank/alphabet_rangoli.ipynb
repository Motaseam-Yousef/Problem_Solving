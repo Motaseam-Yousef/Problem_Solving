{
  "nbformat": 4,
  "nbformat_minor": 0,
  "metadata": {
    "colab": {
      "name": "alphabet-rangoli.ipynb",
      "provenance": []
    },
    "kernelspec": {
      "name": "python3",
      "display_name": "Python 3"
    },
    "language_info": {
      "name": "python"
    }
  },
  "cells": [
    {
      "cell_type": "markdown",
      "source": [
        "You are given an integer, . Your task is to print an alphabet rangoli of size . (Rangoli is a form of Indian folk art based on creation of patterns.)\n",
        "\n",
        "Different sizes of alphabet rangoli are shown below:\n",
        "\n",
        "size 3\n",
        "\n",
        "----c----\n",
        "\n",
        "--c-b-c--\n",
        "\n",
        "c-b-a-b-c\n",
        "\n",
        "--c-b-c--\n",
        "\n",
        "----c----\n",
        "\n",
        "size 5\n",
        "\n",
        "--------e--------\n",
        "\n",
        "------e-d-e------\n",
        "\n",
        "----e-d-c-d-e----\n",
        "\n",
        "--e-d-c-b-c-d-e--\n",
        "\n",
        "e-d-c-b-a-b-c-d-e\n",
        "\n",
        "--e-d-c-b-c-d-e--\n",
        "\n",
        "----e-d-c-d-e----\n",
        "\n",
        "------e-d-e------\n",
        "\n",
        "--------e--------\n",
        "\n",
        "The center of the rangoli has the first alphabet letter a, and the boundary has the  alphabet letter (in alphabetical order).\n",
        "\n",
        "Function Description\n",
        "\n",
        "Complete the rangoli function in the editor below.\n",
        "\n",
        "rangoli has the following parameters:\n",
        "\n",
        "int size: the size of the rangoli\n",
        "Returns\n",
        "\n",
        "string: a single string made up of each of the lines of the rangoli separated by a newline character (\\n)\n",
        "Input Format\n",
        "\n",
        "Only one line of input containing , the size of the rangoli.\n",
        "\n",
        "Constraints\n",
        "\n",
        "\n",
        "Sample Input\n",
        "\n",
        "5\n",
        "Sample Output\n",
        "\n",
        "--------e--------\n",
        "\n",
        "------e-d-e------\n",
        "\n",
        "----e-d-c-d-e----\n",
        "\n",
        "--e-d-c-b-c-d-e--\n",
        "\n",
        "e-d-c-b-a-b-c-d-e\n",
        "\n",
        "--e-d-c-b-c-d-e--\n",
        "\n",
        "----e-d-c-d-e----\n",
        "\n",
        "------e-d-e------\n",
        "\n",
        "--------e--------"
      ],
      "metadata": {
        "id": "pxr9uc4cC5-k"
      }
    },
    {
      "cell_type": "code",
      "source": [
        "def print_rangoli(size):\n",
        "    # your code goes here\n",
        "    import string\n",
        "    design = string.ascii_lowercase\n",
        "    L = []\n",
        "    for i in range(n):\n",
        "        s = \"-\".join(design[i:n])\n",
        "        #print(s)\n",
        "        L.append((s[::-1]+s[1:]).center(4*n-3, \"-\"))\n",
        "        #print(L)\n",
        "    print('\\n'.join(L[:0:-1]+L))\n",
        "if __name__ == '__main__':\n",
        "    n = int(input())\n",
        "    print_rangoli(n)\n"
      ],
      "metadata": {
        "colab": {
          "base_uri": "https://localhost:8080/"
        },
        "id": "zofzRnqtEsBo",
        "outputId": "1a5d1679-6446-4bb3-89cd-598094d2004a"
      },
      "execution_count": 20,
      "outputs": [
        {
          "output_type": "stream",
          "name": "stdout",
          "text": [
            "5\n",
            "--------e--------\n",
            "------e-d-e------\n",
            "----e-d-c-d-e----\n",
            "--e-d-c-b-c-d-e--\n",
            "e-d-c-b-a-b-c-d-e\n",
            "--e-d-c-b-c-d-e--\n",
            "----e-d-c-d-e----\n",
            "------e-d-e------\n",
            "--------e--------\n"
          ]
        }
      ]
    }
  ]
}