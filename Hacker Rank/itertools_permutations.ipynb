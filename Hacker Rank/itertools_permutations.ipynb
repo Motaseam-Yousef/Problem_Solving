{
  "nbformat": 4,
  "nbformat_minor": 0,
  "metadata": {
    "colab": {
      "name": "itertools-permutations.ipynb",
      "provenance": []
    },
    "kernelspec": {
      "name": "python3",
      "display_name": "Python 3"
    },
    "language_info": {
      "name": "python"
    }
  },
  "cells": [
    {
      "cell_type": "markdown",
      "source": [
        "itertools.permutations(iterable[, r])\n",
        "\n",
        "This tool returns successive  length permutations of elements in an iterable.\n",
        "\n",
        "If  is not specified or is None, then  defaults to the length of the iterable, and all possible full length permutations are generated.\n",
        "\n",
        "Permutations are printed in a lexicographic sorted order. So, if the input iterable is sorted, the permutation tuples will be produced in a sorted order.\n",
        "\n",
        "Sample Code\n",
        "\n",
        ">>> from itertools import permutations\n",
        ">>> print permutations(['1','2','3'])\n",
        "<itertools.permutations object at 0x02A45210>\n",
        ">>> \n",
        ">>> print list(permutations(['1','2','3']))\n",
        "[('1', '2', '3'), ('1', '3', '2'), ('2', '1', '3'), ('2', '3', '1'), ('3', '1', '2'), ('3', '2', '1')]\n",
        ">>> \n",
        ">>> print list(permutations(['1','2','3'],2))\n",
        "[('1', '2'), ('1', '3'), ('2', '1'), ('2', '3'), ('3', '1'), ('3', '2')]\n",
        ">>>\n",
        ">>> print list(permutations('abc',3))\n",
        "[('a', 'b', 'c'), ('a', 'c', 'b'), ('b', 'a', 'c'), ('b', 'c', 'a'), ('c', 'a', 'b'), ('c', 'b', 'a')]\n",
        "Task\n",
        "\n",
        "You are given a string .\n",
        "Your task is to print all possible permutations of size  of the string in lexicographic sorted order.\n",
        "\n",
        "Input Format\n",
        "\n",
        "A single line containing the space separated string  and the integer value .\n",
        "\n",
        "Constraints\n",
        "\n",
        "\n",
        "The string contains only UPPERCASE characters.\n",
        "\n",
        "Output Format\n",
        "\n",
        "Print the permutations of the string  on separate lines.\n",
        "\n",
        "Sample Input\n",
        "\n",
        "HACK 2\n",
        "\n",
        "Sample Output\n",
        "\n",
        "AC\n",
        "AH\n",
        "AK\n",
        "CA\n",
        "CH\n",
        "CK\n",
        "HA\n",
        "HC\n",
        "HK\n",
        "KA\n",
        "KC\n",
        "KH"
      ],
      "metadata": {
        "id": "TFlgfynWJj0D"
      }
    },
    {
      "cell_type": "code",
      "source": [
        "from itertools import permutations\n",
        "\n",
        "s,k = input().split()\n",
        "\n",
        "words = list(permutations(s,int(k)))\n",
        "words = sorted(words, reverse=False)\n",
        "for word in words:\n",
        "    print(*word,sep='')"
      ],
      "metadata": {
        "colab": {
          "base_uri": "https://localhost:8080/"
        },
        "id": "9bg4-IWVJpMP",
        "outputId": "63dab8f6-37e4-4cb5-898c-857cb5ea3a9d"
      },
      "execution_count": 1,
      "outputs": [
        {
          "output_type": "stream",
          "name": "stdout",
          "text": [
            "HACK 2\n",
            "AC\n",
            "AH\n",
            "AK\n",
            "CA\n",
            "CH\n",
            "CK\n",
            "HA\n",
            "HC\n",
            "HK\n",
            "KA\n",
            "KC\n",
            "KH\n"
          ]
        }
      ]
    }
  ]
}