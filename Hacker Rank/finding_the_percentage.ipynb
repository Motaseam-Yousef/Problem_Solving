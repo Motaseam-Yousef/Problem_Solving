{
  "nbformat": 4,
  "nbformat_minor": 0,
  "metadata": {
    "colab": {
      "name": "finding-the-percentage.ipynb",
      "provenance": []
    },
    "kernelspec": {
      "name": "python3",
      "display_name": "Python 3"
    },
    "language_info": {
      "name": "python"
    }
  },
  "cells": [
    {
      "cell_type": "markdown",
      "source": [
        ""
      ],
      "metadata": {
        "id": "vUJrGcyHAbSb"
      }
    },
    {
      "cell_type": "code",
      "source": [
        "n = int(input())\n",
        "student_marks = {}\n",
        "for _ in range(n):\n",
        "  name, *line = input().split()\n",
        "  scores = list(map(float, line))\n",
        "  student_marks[name] = scores\n",
        "query_name = input()\n",
        "print(sum(list((student_marks[query_name])))/len((list((student_marks[query_name])))))"
      ],
      "metadata": {
        "colab": {
          "base_uri": "https://localhost:8080/"
        },
        "id": "Gz9icFfPAa2R",
        "outputId": "1f323d73-3407-4a5b-c34e-676a789364b9"
      },
      "execution_count": 7,
      "outputs": [
        {
          "output_type": "stream",
          "name": "stdout",
          "text": [
            "2\n",
            "Harsh 25 26.5 28\n",
            "Anurag 26 28 30\n",
            "Harsh\n",
            "26.5\n"
          ]
        }
      ]
    },
    {
      "cell_type": "code",
      "source": [
        "n = int(input())\n",
        "student_marks = {}\n",
        "for _ in range(n):\n",
        "  name, *line = input().split()\n",
        "  scores = list(map(float, line))\n",
        "  student_marks[name] = scores\n",
        "query_name = input()\n",
        "su=sum(list(student_marks[query_name]))\n",
        "le = len(list(student_marks[query_name]))\n",
        "print(format(su/le,'.2f'))"
      ],
      "metadata": {
        "colab": {
          "base_uri": "https://localhost:8080/"
        },
        "id": "A_MLwmkdDuXL",
        "outputId": "b32e0572-5ed9-426a-9ccd-2e42bf67bdab"
      },
      "execution_count": 14,
      "outputs": [
        {
          "output_type": "stream",
          "name": "stdout",
          "text": [
            "2\n",
            "Harsh 10 10 10\n",
            "Shivam 5 7 9\n",
            "Harsh\n",
            "10.00\n"
          ]
        }
      ]
    },
    {
      "cell_type": "markdown",
      "source": [
        "The second solution with the .00"
      ],
      "metadata": {
        "id": "5nZ2I6R3H_fR"
      }
    }
  ]
}