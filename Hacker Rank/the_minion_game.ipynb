{
  "nbformat": 4,
  "nbformat_minor": 0,
  "metadata": {
    "colab": {
      "name": "the-minion-game.ipynb",
      "provenance": []
    },
    "kernelspec": {
      "name": "python3",
      "display_name": "Python 3"
    },
    "language_info": {
      "name": "python"
    }
  },
  "cells": [
    {
      "cell_type": "markdown",
      "source": [
        "Game Rules\n",
        "\n",
        "Both players are given the same string, .\n",
        "Both players have to make substrings using the letters of the string .\n",
        "Stuart has to make words starting with consonants.\n",
        "Kevin has to make words starting with vowels.\n",
        "The game ends when both players have made all possible substrings.\n",
        "\n",
        "Scoring\n",
        "A player gets +1 point for each occurrence of the substring in the string .\n",
        "\n",
        "For Example:\n",
        "String  = BANANA\n",
        "Kevin's vowel beginning word = ANA\n",
        "Here, ANA occurs twice in BANANA. Hence, Kevin will get 2 Points.\n",
        "\n",
        "For better understanding, see the image below:\n",
        "\n",
        "banana.png\n",
        "\n",
        "Your task is to determine the winner of the game and their score.\n",
        "\n",
        "Function Description\n",
        "\n",
        "Complete the minion_game in the editor below.\n",
        "\n",
        "minion_game has the following parameters:\n",
        "\n",
        "string string: the string to analyze\n",
        "Prints\n",
        "\n",
        "string: the winner's name and score, separated by a space on one line, or Draw if there is no winner\n",
        "Input Format\n",
        "\n",
        "A single line of input containing the string .\n",
        "Note: The string  will contain only uppercase letters: .\n",
        "\n",
        "\n",
        "Sample Input\n",
        "\n",
        "BANANA\n",
        "Sample Output\n",
        "\n",
        "Stuart 12"
      ],
      "metadata": {
        "id": "gQTrXmh-0rbX"
      }
    },
    {
      "cell_type": "code",
      "source": [
        "def minion_game(string):\n",
        "    # your code goes here\n",
        "    player1 = 0;\n",
        "    player2 = 0;\n",
        "    str_len = len(string)\n",
        "    for i in range(str_len):\n",
        "        if s[i] in \"AEIOU\":\n",
        "            player1 += (str_len)-i\n",
        "        else :\n",
        "            player2 += (str_len)-i\n",
        "    \n",
        "    if player1 > player2:\n",
        "        print(\"Kevin\", player1)\n",
        "    elif player1 < player2:\n",
        "        print(\"Stuart\",player2)\n",
        "    else :\n",
        "        print(\"Draw\")\n",
        "if __name__ == '__main__':\n",
        "    s = input()\n",
        "    minion_game(s)"
      ],
      "metadata": {
        "colab": {
          "base_uri": "https://localhost:8080/"
        },
        "id": "8C4izkxf0xGW",
        "outputId": "d72bbf63-0a2d-432f-e210-05242e9a1b19"
      },
      "execution_count": 1,
      "outputs": [
        {
          "output_type": "stream",
          "name": "stdout",
          "text": [
            "BANANA\n",
            "Stuart 12\n"
          ]
        }
      ]
    }
  ]
}