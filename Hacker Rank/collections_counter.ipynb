{
  "nbformat": 4,
  "nbformat_minor": 0,
  "metadata": {
    "colab": {
      "name": "collections-counter.ipynb",
      "provenance": []
    },
    "kernelspec": {
      "name": "python3",
      "display_name": "Python 3"
    },
    "language_info": {
      "name": "python"
    }
  },
  "cells": [
    {
      "cell_type": "markdown",
      "source": [
        "collections.Counter()\n",
        "A counter is a container that stores elements as dictionary keys, and their counts are stored as dictionary values.\n",
        "\n",
        "Sample Code\n",
        "\n",
        ">>> from collections import Counter\n",
        ">>> \n",
        ">>> myList = [1,1,2,3,4,5,3,2,3,4,2,1,2,3]\n",
        ">>> print Counter(myList)\n",
        "Counter({2: 4, 3: 4, 1: 3, 4: 2, 5: 1})\n",
        ">>>\n",
        ">>> print Counter(myList).items()\n",
        "[(1, 3), (2, 4), (3, 4), (4, 2), (5, 1)]\n",
        ">>> \n",
        ">>> print Counter(myList).keys()\n",
        "[1, 2, 3, 4, 5]\n",
        ">>> \n",
        ">>> print Counter(myList).values()\n",
        "[3, 4, 4, 2, 1]\n",
        "Task\n",
        "\n",
        " is a shoe shop owner. His shop has  number of shoes.\n",
        "He has a list containing the size of each shoe he has in his shop.\n",
        "There are  number of customers who are willing to pay  amount of money only if they get the shoe of their desired size.\n",
        "\n",
        "Your task is to compute how much money  earned.\n",
        "\n",
        "Input Format\n",
        "\n",
        "The first line contains , the number of shoes.\n",
        "The second line contains the space separated list of all the shoe sizes in the shop.\n",
        "The third line contains , the number of customers.\n",
        "The next  lines contain the space separated values of the  desired by the customer and , the price of the shoe.\n",
        "\n",
        "Output Format\n",
        "\n",
        "Print the amount of money earned by .\n",
        "\n",
        "Sample Input\n",
        "\n",
        "10\n",
        "2 3 4 5 6 8 7 6 5 18\n",
        "6\n",
        "6 55\n",
        "6 45\n",
        "6 55\n",
        "4 40\n",
        "18 60\n",
        "10 50\n",
        "Sample Output\n",
        "\n",
        "200\n",
        "Explanation\n",
        "\n",
        "Customer 1: Purchased size 6 shoe for $55.\n",
        "Customer 2: Purchased size 6 shoe for $45.\n",
        "Customer 3: Size 6 no longer available, so no purchase.\n",
        "Customer 4: Purchased size 4 shoe for $40.\n",
        "Customer 5: Purchased size 18 shoe for $60.\n",
        "Customer 6: Size 10 not available, so no purchase."
      ],
      "metadata": {
        "id": "TuX-jocqFZML"
      }
    },
    {
      "cell_type": "code",
      "source": [
        "# Enter your code here. Read input from STDIN. Print output to STDOUT\n",
        "from collections import Counter\n",
        "X = input()\n",
        "S = Counter(map(int,input().split()))\n",
        "n = input()\n",
        "N = int(n) \n",
        "earnings = 0\n",
        "for customer in range(N):\n",
        "    size, x_i = map(int,input().split())\n",
        "    if size in S and S[size] > 0:\n",
        "        S[size] -= 1\n",
        "        earnings += x_i\n",
        "            \n",
        "print(earnings)"
      ],
      "metadata": {
        "colab": {
          "base_uri": "https://localhost:8080/"
        },
        "id": "_v8WQUliFZYu",
        "outputId": "744a4706-d57a-4802-b67c-3f7d46803969"
      },
      "execution_count": 1,
      "outputs": [
        {
          "output_type": "stream",
          "name": "stdout",
          "text": [
            "10\n",
            "2 3 4 5 6 8 7 6 5 18\n",
            "6\n",
            "6 55\n",
            "6 45\n",
            "6 55\n",
            "4 40\n",
            "18 60\n",
            "10 50\n",
            "200\n"
          ]
        }
      ]
    }
  ]
}