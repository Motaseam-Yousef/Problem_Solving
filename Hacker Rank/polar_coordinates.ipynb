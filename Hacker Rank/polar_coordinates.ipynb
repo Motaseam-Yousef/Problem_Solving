{
  "nbformat": 4,
  "nbformat_minor": 0,
  "metadata": {
    "colab": {
      "name": "polar-coordinates.ipynb",
      "provenance": []
    },
    "kernelspec": {
      "name": "python3",
      "display_name": "Python 3"
    },
    "language_info": {
      "name": "python"
    }
  },
  "cells": [
    {
      "cell_type": "markdown",
      "source": [
        "Polar coordinates are an alternative way of representing Cartesian coordinates or Complex Numbers.\n",
        "\n",
        "A complex number  Capture.PNG\n",
        "\n",
        "is completely determined by its real part  and imaginary part .\n",
        "Here,  is the imaginary unit.\n",
        "A polar coordinate () Capture.PNG\n",
        "\n",
        "is completely determined by modulus  and phase angle .\n",
        "\n",
        "If we convert complex number  to its polar coordinate, we find:\n",
        ": Distance from  to origin, i.e., \n",
        ": Counter clockwise angle measured from the positive -axis to the line segment that joins  to the origin.\n",
        "\n",
        "Python's cmath module provides access to the mathematical functions for complex numbers.\n",
        "\n",
        "\n",
        "This tool returns the phase of complex number  (also known as the argument of ).\n",
        "\n",
        ">>> phase(complex(-1.0, 0.0))\n",
        "3.1415926535897931\n",
        "\n",
        "This tool returns the modulus (absolute value) of complex number .\n",
        "\n",
        ">>> abs(complex(-1.0, 0.0))\n",
        "1.0\n",
        "Task\n",
        "You are given a complex . Your task is to convert it to polar coordinates.\n",
        "\n",
        "Input Format\n",
        "\n",
        "A single line containing the complex number . Note: complex() function can be used in python to convert the input as a complex number.\n",
        "\n",
        "\n",
        "Sample Input\n",
        "1+2j\n",
        "\n",
        "Sample Output\n",
        "\n",
        "\n",
        " 2.23606797749979\n",
        "  \n",
        " 1.1071487177940904"
      ],
      "metadata": {
        "id": "ujNsffvUKdFu"
      }
    },
    {
      "cell_type": "code",
      "source": [
        "import cmath\n",
        "A=complex(input())\n",
        "print(abs(complex(A.real, A.imag)))\n",
        "print(cmath.phase(complex(A.real, A.imag)))\n"
      ],
      "metadata": {
        "colab": {
          "base_uri": "https://localhost:8080/"
        },
        "id": "UQ1sF2unKdPu",
        "outputId": "30da011d-45e1-4902-a2cf-b287096a7038"
      },
      "execution_count": 1,
      "outputs": [
        {
          "output_type": "stream",
          "name": "stdout",
          "text": [
            "1+2j\n",
            "1.1071487177940904\n",
            "2.23606797749979\n"
          ]
        }
      ]
    }
  ]
}