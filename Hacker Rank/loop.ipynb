{
  "nbformat": 4,
  "nbformat_minor": 0,
  "metadata": {
    "colab": {
      "name": "loop.ipynb",
      "provenance": []
    },
    "kernelspec": {
      "name": "python3",
      "display_name": "Python 3"
    },
    "language_info": {
      "name": "python"
    }
  },
  "cells": [
    {
      "cell_type": "markdown",
      "source": [
        "The included code stub will read an integer, n, from STDIN.\n",
        "\n",
        "Without using any string methods, try to print the following:\n",
        "123....n\n",
        "\n",
        "Note that \"\" represents the consecutive values in between.\n",
        "\n",
        "Example\n",
        "n=5\n",
        "\n",
        "Print the string 12345 .\n",
        "\n",
        "Input Format\n",
        "\n",
        "The first line contains an integer n.\n",
        "\n",
        "Constraints\n",
        "1<=n<=150\n",
        "\n",
        "Output Format\n",
        "\n",
        "Print the list of integers from  through  as a string, without spaces.\n",
        "\n",
        "Sample Input 0\n",
        "\n",
        "3\n",
        "Sample Output 0\n",
        "\n",
        "123"
      ],
      "metadata": {
        "id": "dBc9-rIPoPAL"
      }
    },
    {
      "cell_type": "code",
      "source": [
        "n = int(input())\n",
        "    \n",
        "for i in range(1,n+1):\n",
        "  print(i,end=\"\")"
      ],
      "metadata": {
        "colab": {
          "base_uri": "https://localhost:8080/"
        },
        "id": "yvZlEoDOoyr-",
        "outputId": "4d985ca9-4f18-4e9e-d8d3-fc5d8e099f03"
      },
      "execution_count": 1,
      "outputs": [
        {
          "output_type": "stream",
          "name": "stdout",
          "text": [
            "3\n",
            "123"
          ]
        }
      ]
    }
  ]
}