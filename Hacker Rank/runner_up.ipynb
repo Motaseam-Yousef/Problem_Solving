{
  "nbformat": 4,
  "nbformat_minor": 0,
  "metadata": {
    "colab": {
      "name": "runner-up.ipynb",
      "provenance": []
    },
    "kernelspec": {
      "name": "python3",
      "display_name": "Python 3"
    },
    "language_info": {
      "name": "python"
    }
  },
  "cells": [
    {
      "cell_type": "markdown",
      "source": [
        "Given the participants' score sheet for your University Sports Day, you are required to find the runner-up score. You are given n scores. Store them in a list and find the score of the runner-up.\n",
        "\n",
        "Input Format\n",
        "\n",
        "The first line contains . The second line contains an array A[]  of n integers each separated by a space.\n",
        "\n",
        "Constraints\n",
        "2<=n<=10\n",
        "-100<=A[i]<=100\n",
        "Output Format\n",
        "\n",
        "Print the runner-up score.\n",
        "\n",
        "Sample Input 0\n",
        "\n",
        "5\n",
        "2 3 6 6 5\n",
        "Sample Output 0\n",
        "\n",
        "5"
      ],
      "metadata": {
        "id": "3ZHENZyitNuu"
      }
    },
    {
      "cell_type": "code",
      "source": [
        "#Runner up: the second high score\n",
        "n = int(input())\n",
        "arr = list(set(map(int, input().split())))\n",
        "print(sorted(arr)[-2])\n"
      ],
      "metadata": {
        "colab": {
          "base_uri": "https://localhost:8080/"
        },
        "id": "HCi7qaafsDyK",
        "outputId": "b051ba6f-43cb-4323-dabb-6ddbc141f6d9"
      },
      "execution_count": 8,
      "outputs": [
        {
          "output_type": "stream",
          "name": "stdout",
          "text": [
            "5\n",
            "2 3 6 6 5\n",
            "5\n"
          ]
        }
      ]
    }
  ]
}