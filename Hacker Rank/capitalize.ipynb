{
  "nbformat": 4,
  "nbformat_minor": 0,
  "metadata": {
    "colab": {
      "name": "capitalize.ipynb",
      "provenance": []
    },
    "kernelspec": {
      "name": "python3",
      "display_name": "Python 3"
    },
    "language_info": {
      "name": "python"
    }
  },
  "cells": [
    {
      "cell_type": "markdown",
      "source": [
        "You are asked to ensure that the first and last names of people begin with a capital letter in their passports. For example, alison heck should be capitalised correctly as Alison Heck.\n",
        "\n",
        "\n",
        "Given a full name, your task is to capitalize the name appropriately.\n",
        "\n",
        "Input Format\n",
        "\n",
        "A single line of input containing the full name, .\n",
        "\n",
        "Constraints\n",
        "\n",
        "The string consists of alphanumeric characters and spaces.\n",
        "Note: in a word only the first character is capitalized. Example 12abc when capitalized remains 12abc.\n",
        "\n",
        "Output Format\n",
        "\n",
        "Print the capitalized string, .\n",
        "\n",
        "Sample Input\n",
        "\n",
        "chris alan\n",
        "Sample Output\n",
        "\n",
        "Chris Alan"
      ],
      "metadata": {
        "id": "jlajCKTqWQR7"
      }
    },
    {
      "cell_type": "code",
      "source": [
        "#!/bin/python3\n",
        "\n",
        "import math\n",
        "import os\n",
        "import random\n",
        "import re\n",
        "import sys\n",
        "\n",
        "# Complete the solve function below.\n",
        "def solve(s):\n",
        "    b=s.split(\" \")\n",
        "    ls=[]\n",
        "    for i in b:\n",
        "        ls.append(i.capitalize())\n",
        "    result=\" \".join(ls)\n",
        "    return result\n",
        "if __name__ == '__main__':\n",
        "\n",
        "\n",
        "    s = input()\n",
        "\n",
        "    result = solve(s)\n",
        "    print(result)\n"
      ],
      "metadata": {
        "colab": {
          "base_uri": "https://localhost:8080/"
        },
        "id": "_rCkq4F4WQg9",
        "outputId": "089756b0-a03b-4419-aa96-7b2c198eee93"
      },
      "execution_count": 47,
      "outputs": [
        {
          "output_type": "stream",
          "name": "stdout",
          "text": [
            "chris alan \n",
            "Chris Alan \n"
          ]
        }
      ]
    }
  ]
}