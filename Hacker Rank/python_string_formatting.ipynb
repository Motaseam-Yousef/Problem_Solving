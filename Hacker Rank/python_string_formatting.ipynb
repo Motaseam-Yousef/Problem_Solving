{
  "nbformat": 4,
  "nbformat_minor": 0,
  "metadata": {
    "colab": {
      "name": "python-string-formatting.ipynb",
      "provenance": []
    },
    "kernelspec": {
      "name": "python3",
      "display_name": "Python 3"
    },
    "language_info": {
      "name": "python"
    }
  },
  "cells": [
    {
      "cell_type": "markdown",
      "source": [
        "Given an integer, n, print the following values for each integer i from 1 to n :\n",
        "\n",
        "Decimal\n",
        "Octal\n",
        "Hexadecimal (capitalized)\n",
        "Binary\n",
        "Function Description\n",
        "\n",
        "Complete the print_formatted function in the editor below.\n",
        "\n",
        "print_formatted has the following parameters:\n",
        "\n",
        "int number: the maximum value to print\n",
        "Prints\n",
        "\n",
        "The four values must be printed on a single line in the order specified above for each i from 1 to n . Each value should be space-padded to match the width of the binary value of n and the values should be separated by a single space.\n",
        "\n",
        "Input Format\n",
        "\n",
        "A single integer denoting n.\n",
        "\n",
        "Constraints\n",
        "1<=n<=90\n",
        "\n",
        "Sample Input\n",
        "17\n",
        "Sample Output\n",
        "\n",
        "    1     1     1     1\n",
        "    2     2     2    10\n",
        "    3     3     3    11\n",
        "    4     4     4   100\n",
        "    5     5     5   101\n",
        "    6     6     6   110\n",
        "    7     7     7   111\n",
        "    8    10     8  1000\n",
        "    9    11     9  1001\n",
        "    10    12     A  1010\n",
        "    11    13     B  1011\n",
        "    12    14     C  1100\n",
        "    13    15     D  1101\n",
        "    14    16     E  1110\n",
        "    15    17     F  1111\n",
        "    16    20    10 10000\n",
        "    17    21    11 10001\n",
        "\n"
      ],
      "metadata": {
        "id": "3zoMJN9J8BTU"
      }
    },
    {
      "cell_type": "code",
      "source": [
        "def print_formatted(number):\n",
        "    # your code goes here\n",
        "    for i in range(1,number+1):\n",
        "        oc=oct(i)[2:]\n",
        "        hx=hex(i)[2:].capitalize()\n",
        "        bn=bin(i)[2:]\n",
        "        print((\"{a}  {b}  {c}  {d}\").format(a=i,b=oc,c=hx,d=bn))\n",
        "\n",
        "if __name__ == '__main__':\n",
        "    n = int(input())\n",
        "    print_formatted(n)"
      ],
      "metadata": {
        "colab": {
          "base_uri": "https://localhost:8080/"
        },
        "id": "uUYs_xDU8nw9",
        "outputId": "41ef7ae6-19c9-49aa-8a3e-bcf1ae859c31"
      },
      "execution_count": 11,
      "outputs": [
        {
          "output_type": "stream",
          "name": "stdout",
          "text": [
            "17\n",
            "1  1  1  1\n",
            "2  2  2  10\n",
            "3  3  3  11\n",
            "4  4  4  100\n",
            "5  5  5  101\n",
            "6  6  6  110\n",
            "7  7  7  111\n",
            "8  10  8  1000\n",
            "9  11  9  1001\n",
            "10  12  A  1010\n",
            "11  13  B  1011\n",
            "12  14  C  1100\n",
            "13  15  D  1101\n",
            "14  16  E  1110\n",
            "15  17  F  1111\n",
            "16  20  10  10000\n",
            "17  21  11  10001\n"
          ]
        }
      ]
    }
  ]
}