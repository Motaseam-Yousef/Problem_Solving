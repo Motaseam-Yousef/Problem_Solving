{
  "nbformat": 4,
  "nbformat_minor": 0,
  "metadata": {
    "colab": {
      "name": "calendar-module.ipynb",
      "provenance": []
    },
    "kernelspec": {
      "name": "python3",
      "display_name": "Python 3"
    },
    "language_info": {
      "name": "python"
    }
  },
  "cells": [
    {
      "cell_type": "markdown",
      "source": [
        "Calendar Module\n",
        "The calendar module allows you to output calendars and provides additional useful functions for them.\n",
        "\n",
        "class calendar.TextCalendar([firstweekday])\n",
        "\n",
        "This class can be used to generate plain text calendars.\n",
        "\n",
        "Sample Code\n",
        "\n",
        ">>> import calendar\n",
        ">>> \n",
        ">>> print calendar.TextCalendar(firstweekday=6).formatyear(2015)\n",
        "                                  2015\n",
        "\n",
        "      January                   February                   March\n",
        "Su Mo Tu We Th Fr Sa      Su Mo Tu We Th Fr Sa      Su Mo Tu We Th Fr Sa\n",
        "             1  2  3       1  2  3  4  5  6  7       1  2  3  4  5  6  7\n",
        " 4  5  6  7  8  9 10       8  9 10 11 12 13 14       8  9 10 11 12 13 14\n",
        "11 12 13 14 15 16 17      15 16 17 18 19 20 21      15 16 17 18 19 20 21\n",
        "18 19 20 21 22 23 24      22 23 24 25 26 27 28      22 23 24 25 26 27 28\n",
        "25 26 27 28 29 30 31                                29 30 31\n",
        "\n",
        "       April                      May                       June\n",
        "Su Mo Tu We Th Fr Sa      Su Mo Tu We Th Fr Sa      Su Mo Tu We Th Fr Sa\n",
        "          1  2  3  4                      1  2          1  2  3  4  5  6\n",
        " 5  6  7  8  9 10 11       3  4  5  6  7  8  9       7  8  9 10 11 12 13\n",
        "12 13 14 15 16 17 18      10 11 12 13 14 15 16      14 15 16 17 18 19 20\n",
        "19 20 21 22 23 24 25      17 18 19 20 21 22 23      21 22 23 24 25 26 27\n",
        "26 27 28 29 30            24 25 26 27 28 29 30      28 29 30\n",
        "                          31\n",
        "\n",
        "        July                     August                  September\n",
        "Su Mo Tu We Th Fr Sa      Su Mo Tu We Th Fr Sa      Su Mo Tu We Th Fr Sa\n",
        "          1  2  3  4                         1             1  2  3  4  5\n",
        " 5  6  7  8  9 10 11       2  3  4  5  6  7  8       6  7  8  9 10 11 12\n",
        "12 13 14 15 16 17 18       9 10 11 12 13 14 15      13 14 15 16 17 18 19\n",
        "19 20 21 22 23 24 25      16 17 18 19 20 21 22      20 21 22 23 24 25 26\n",
        "26 27 28 29 30 31         23 24 25 26 27 28 29      27 28 29 30\n",
        "                          30 31\n",
        "\n",
        "      October                   November                  December\n",
        "Su Mo Tu We Th Fr Sa      Su Mo Tu We Th Fr Sa      Su Mo Tu We Th Fr Sa\n",
        "             1  2  3       1  2  3  4  5  6  7             1  2  3  4  5\n",
        " 4  5  6  7  8  9 10       8  9 10 11 12 13 14       6  7  8  9 10 11 12\n",
        "11 12 13 14 15 16 17      15 16 17 18 19 20 21      13 14 15 16 17 18 19\n",
        "18 19 20 21 22 23 24      22 23 24 25 26 27 28      20 21 22 23 24 25 26\n",
        "25 26 27 28 29 30 31      29 30                     27 28 29 30 31\n",
        "To learn more about different calendar functions, click here.\n",
        "\n",
        "Task\n",
        "\n",
        "You are given a date. Your task is to find what the day is on that date.\n",
        "\n",
        "Input Format\n",
        "\n",
        "A single line of input containing the space separated month, day and year, respectively, in    format.\n",
        "\n",
        "\n",
        "Output Format\n",
        "\n",
        "Output the correct day in capital letters.\n",
        "\n",
        "Sample Input\n",
        "\n",
        "08 05 2015\n",
        "\n",
        "Sample Output\n",
        "WEDNESDAY"
      ],
      "metadata": {
        "id": "cVR9DhVYfM62"
      }
    },
    {
      "cell_type": "code",
      "source": [
        "\n",
        "from datetime import datetime\n",
        "import calendar\n",
        "my_string = str(input())\n",
        "#print(my_string)\n",
        "my_date = datetime.strptime(my_string, \"%m %d %Y\")\n",
        "#print(my_date)\n",
        "A=calendar.day_name[my_date.weekday()]\n",
        "print(A.upper())"
      ],
      "metadata": {
        "colab": {
          "base_uri": "https://localhost:8080/"
        },
        "id": "hWuMjjmAa8Iy",
        "outputId": "28674644-7e00-425e-e936-8e228ff6430e"
      },
      "execution_count": 18,
      "outputs": [
        {
          "output_type": "stream",
          "name": "stdout",
          "text": [
            "08 05 2015\n",
            "WEDNESDAY\n"
          ]
        }
      ]
    }
  ]
}