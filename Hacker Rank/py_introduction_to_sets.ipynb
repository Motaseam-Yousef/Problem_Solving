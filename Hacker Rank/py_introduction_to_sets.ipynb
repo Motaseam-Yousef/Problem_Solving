{
  "nbformat": 4,
  "nbformat_minor": 0,
  "metadata": {
    "colab": {
      "name": "py-introduction-to-sets.ipynb",
      "provenance": [],
      "collapsed_sections": []
    },
    "kernelspec": {
      "name": "python3",
      "display_name": "Python 3"
    },
    "language_info": {
      "name": "python"
    }
  },
  "cells": [
    {
      "cell_type": "markdown",
      "source": [
        "A set is an unordered collection of elements without duplicate entries.\n",
        "When printed, iterated or converted into a sequence, its elements will appear in an arbitrary order.\n",
        "\n",
        "Example\n",
        "\n",
        ">>> print set()\n",
        "set([])\n",
        "\n",
        ">>> print set('HackerRank')\n",
        "set(['a', 'c', 'e', 'H', 'k', 'n', 'r', 'R'])\n",
        "\n",
        ">>> print set([1,2,1,2,3,4,5,6,0,9,12,22,3])\n",
        "set([0, 1, 2, 3, 4, 5, 6, 9, 12, 22])\n",
        "\n",
        ">>> print set((1,2,3,4,5,5))\n",
        "set([1, 2, 3, 4, 5])\n",
        "\n",
        ">>> print set(set(['H','a','c','k','e','r','r','a','n','k']))\n",
        "set(['a', 'c', 'r', 'e', 'H', 'k', 'n'])\n",
        "\n",
        ">>> print set({'Hacker' : 'DOSHI', 'Rank' : 616 })\n",
        "set(['Hacker', 'Rank'])\n",
        "\n",
        ">>> print set(enumerate(['H','a','c','k','e','r','r','a','n','k']))\n",
        "set([(6, 'r'), (7, 'a'), (3, 'k'), (4, 'e'), (5, 'r'), (9, 'k'), (2, 'c'), (0, 'H'), (1, 'a'), (8, 'n')])\n",
        "Basically, sets are used for membership testing and eliminating duplicate entries.\n",
        "\n",
        "Task\n",
        "\n",
        "Now, let's use our knowledge of sets and help Mickey.\n",
        "\n",
        "Ms. Gabriel Williams is a botany professor at District College. One day, she asked her student Mickey to compute the average of all the plants with distinct heights in her greenhouse.\n",
        "\n",
        "Formula used:\n",
        "\n",
        "Function Description\n",
        "\n",
        "Complete the average function in the editor below.\n",
        "\n",
        "average has the following parameters:\n",
        "\n",
        "int arr: an array of integers\n",
        "Returns\n",
        "\n",
        "float: the resulting float value rounded to 3 places after the decimal\n",
        "Input Format\n",
        "\n",
        "The first line contains the integer, , the size of .\n",
        "The second line contains the  space-separated integers, .\n",
        "\n",
        "Constraints\n",
        "\n",
        "\n",
        "Sample Input\n",
        "\n",
        "STDIN                                       Function\n",
        "-----                                       --------\n",
        "10                                          arr[] size N = 10\n",
        "\n",
        "161 182 161 154 176 170 167 171 170 174     arr = [161, 181, ..., 174]\n",
        "Sample Output\n",
        "\n",
        "169.375"
      ],
      "metadata": {
        "id": "Npm-uX5bMSuB"
      }
    },
    {
      "cell_type": "code",
      "source": [
        "def average(array):\n",
        "    # your code goes here\n",
        "    S=float(sum(list(set(array))))\n",
        "    mean=S/len(set(array))\n",
        "    return mean\n",
        "\n",
        "if __name__ == '__main__':\n",
        "    n = int(input())\n",
        "    arr = list(map(int, input().split()))\n",
        "    result = average(arr)\n",
        "      \n",
        "    print(format(result, '.3f'))"
      ],
      "metadata": {
        "colab": {
          "base_uri": "https://localhost:8080/"
        },
        "id": "vOyeoXBxMS4A",
        "outputId": "3bc4c3a4-b3f1-4e4a-902a-d0e986f107ec"
      },
      "execution_count": 10,
      "outputs": [
        {
          "output_type": "stream",
          "name": "stdout",
          "text": [
            "10\n",
            "161 182 161 154 176 170 167 171 170 174\n",
            "169.375\n"
          ]
        }
      ]
    }
  ]
}