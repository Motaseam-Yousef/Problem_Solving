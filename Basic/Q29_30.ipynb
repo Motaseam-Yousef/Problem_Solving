{
  "nbformat": 4,
  "nbformat_minor": 0,
  "metadata": {
    "colab": {
      "name": "Q29_30.ipynb",
      "provenance": []
    },
    "kernelspec": {
      "name": "python3",
      "display_name": "Python 3"
    },
    "language_info": {
      "name": "python"
    }
  },
  "cells": [
    {
      "cell_type": "markdown",
      "source": [
        "Q29: Write a function that accepts one string from user and\n",
        "return reverse of that string. Write main program to test\n",
        "this function.\n",
        "\n",
        "Input : \"Motaseam Yousef\"\n",
        "\n",
        "Output : \"fesuou maesatom\""
      ],
      "metadata": {
        "id": "pyOPKVOmmN3V"
      }
    },
    {
      "cell_type": "code",
      "source": [
        "name=input(\"Enter Your name : \")\n",
        "\n",
        "def rev(name):\n",
        "  r=\"\"\n",
        "  for i in range(len(name)):\n",
        "    r+=(name[len(name)-i-1])\n",
        "  return r\n",
        "\n",
        "print(rev(name))\n"
      ],
      "metadata": {
        "colab": {
          "base_uri": "https://localhost:8080/"
        },
        "id": "70rc8HKcmjzq",
        "outputId": "714f217c-182d-456a-e3ea-06ce59ad9d16"
      },
      "execution_count": 13,
      "outputs": [
        {
          "output_type": "stream",
          "name": "stdout",
          "text": [
            "Enter Your name : Motaseam Yousef\n",
            "fesuoY maesatoM\n"
          ]
        }
      ]
    },
    {
      "cell_type": "markdown",
      "source": [
        "Q30: Write a function that accepts string from user and\n",
        "return number of words from that string. Write main\n",
        "program to test this function.\n",
        "\n",
        "Input : \"Learn Python Programming with Ajit More\"\n",
        "\n",
        "Output : 6"
      ],
      "metadata": {
        "id": "VJi85shxorbg"
      }
    },
    {
      "cell_type": "code",
      "source": [
        "sen=input(\"Enter the sentence : \")\n",
        "A=sen.split(\" \")\n",
        "print(len(A))"
      ],
      "metadata": {
        "colab": {
          "base_uri": "https://localhost:8080/"
        },
        "id": "ht_rfaLHoucP",
        "outputId": "69d8ad9b-8432-4cbb-e685-660047b068ee"
      },
      "execution_count": 14,
      "outputs": [
        {
          "output_type": "stream",
          "name": "stdout",
          "text": [
            "Enter the sentence : Learn Python Programming with Ajit More\n",
            "6\n"
          ]
        }
      ]
    }
  ]
}