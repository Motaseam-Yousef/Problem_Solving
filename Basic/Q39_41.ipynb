{
  "nbformat": 4,
  "nbformat_minor": 0,
  "metadata": {
    "colab": {
      "name": "Q39_41.ipynb",
      "provenance": []
    },
    "kernelspec": {
      "name": "python3",
      "display_name": "Python 3"
    },
    "language_info": {
      "name": "python"
    }
  },
  "cells": [
    {
      "cell_type": "markdown",
      "source": [
        "Q39: Accept three dimensions length (I), breadth(b) and height(h)\n",
        "of a cuboid and print surface area and volume \n",
        "\n",
        "(Hint : surface area=2(Ib+lh+bh ), volume = Ibh)"
      ],
      "metadata": {
        "id": "mhAItSALttEJ"
      }
    },
    {
      "cell_type": "code",
      "source": [
        "l=float(input(\"Enter the length in cm: \"))\n",
        "b=float(input(\"Enter the breadth in cm: \"))\n",
        "h=float(input(\"Enter the height in cm: \"))\n",
        "\n",
        "SurfaceArea=2*(l*b+l*h+b*h)\n",
        "volume=l*b*h\n",
        "\n",
        "print(f\"The surface area is {SurfaceArea} cm^2, and the volume is {volume} cm^3\")\n"
      ],
      "metadata": {
        "colab": {
          "base_uri": "https://localhost:8080/"
        },
        "id": "ia5RUhujuKht",
        "outputId": "e52d008d-25d8-4a55-b287-2a51f6f82bb5"
      },
      "execution_count": 2,
      "outputs": [
        {
          "output_type": "stream",
          "name": "stdout",
          "text": [
            "Enter the length in cm: 10\n",
            "Enter the breadth in cm: 10\n",
            "Enter the height in cm: 10\n",
            "The surface area is 600.0 cm^2, and the volume is 1000.0 cm^3\n"
          ]
        }
      ]
    },
    {
      "cell_type": "markdown",
      "source": [
        "Q40: Accept a character from the keyboard and display its\n",
        "previous and next character in order.\n",
        "\n",
        "e.g. If the character entered is 'd’, display \"The previous\n",
        "character is c\", \"The next character is e\"."
      ],
      "metadata": {
        "id": "Ywu8_p2YvOS8"
      }
    },
    {
      "cell_type": "code",
      "source": [
        "x=input(\"Enter a character : \")\n",
        "\n",
        "prev=chr(ord(x)-1)\n",
        "nxt=chr(ord(x)+1)\n",
        "print(f\"The previoues {prev}, the charachter {x}. and the next {nxt}\")"
      ],
      "metadata": {
        "colab": {
          "base_uri": "https://localhost:8080/"
        },
        "id": "esO4ohknvRIw",
        "outputId": "ec8f9789-0540-4c57-d040-145e093abb3a"
      },
      "execution_count": 3,
      "outputs": [
        {
          "output_type": "stream",
          "name": "stdout",
          "text": [
            "Enter a character : d\n",
            "The previoues c, the charachter d. and the next e\n"
          ]
        }
      ]
    },
    {
      "cell_type": "markdown",
      "source": [
        "Q41: Accept values of variables x, y and z. Rotate their values such\n",
        "that x has value of y, y has value of z and z has value of x."
      ],
      "metadata": {
        "id": "W34otexov6Ch"
      }
    },
    {
      "cell_type": "code",
      "source": [
        "x=int(input(\"Enter the value of x: \"))\n",
        "y=int(input(\"Enter the value of y: \"))\n",
        "z=int(input(\"Enter the value of z: \"))\n",
        "\n",
        "x1=x\n",
        "y1=y\n",
        "z1=z\n",
        "\n",
        "x=y1\n",
        "y=z1\n",
        "z=x1\n",
        "\n",
        "print(f\"the x value is {x}, the y value is {y}, the z value is {z}\")\n"
      ],
      "metadata": {
        "colab": {
          "base_uri": "https://localhost:8080/"
        },
        "id": "qdlf49fmv-O6",
        "outputId": "612688ae-75fc-4784-c545-03143ac99bc0"
      },
      "execution_count": 5,
      "outputs": [
        {
          "output_type": "stream",
          "name": "stdout",
          "text": [
            "Enter the value of x: 10\n",
            "Enter the value of y: 20\n",
            "Enter the value of z: 30\n",
            "the x value is 20, the y value is 30, the z value is 10\n"
          ]
        }
      ]
    }
  ]
}