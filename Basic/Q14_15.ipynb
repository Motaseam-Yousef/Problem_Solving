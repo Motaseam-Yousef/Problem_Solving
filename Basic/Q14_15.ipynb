{
  "nbformat": 4,
  "nbformat_minor": 0,
  "metadata": {
    "colab": {
      "name": "Q14_15.ipynb",
      "provenance": []
    },
    "kernelspec": {
      "name": "python3",
      "display_name": "Python 3"
    },
    "language_info": {
      "name": "python"
    }
  },
  "cells": [
    {
      "cell_type": "markdown",
      "source": [
        "Q14: Write a program to accept one number n from user and\n",
        "find addition of its factors.\n",
        "\n",
        "Input : 12\n",
        "\n",
        "Output : 16 (1+2+3+4+6)"
      ],
      "metadata": {
        "id": "QAWTpx5nAfBE"
      }
    },
    {
      "cell_type": "code",
      "source": [
        "def FactorsSum(n):\n",
        "  ls=[]\n",
        "  for i in range(1,n):\n",
        "    if n%i==0:\n",
        "      ls.append(i)\n",
        "  print(sum(ls),\" \", tuple(ls))\n",
        "  return "
      ],
      "metadata": {
        "id": "aq48goDOAkB9"
      },
      "execution_count": 9,
      "outputs": []
    },
    {
      "cell_type": "code",
      "source": [
        "FactorsSum(int(input(\"Enter number: \")))"
      ],
      "metadata": {
        "colab": {
          "base_uri": "https://localhost:8080/"
        },
        "id": "VJV6BlJhBCxo",
        "outputId": "4015c850-c41c-4c81-8fe3-bb279d6fc495"
      },
      "execution_count": 10,
      "outputs": [
        {
          "output_type": "stream",
          "name": "stdout",
          "text": [
            "Enter number: 12\n",
            "16   (1, 2, 3, 4, 6)\n"
          ]
        }
      ]
    },
    {
      "cell_type": "markdown",
      "source": [
        "Q15: Write a program to accept one number n from user and\n",
        "check whether number is prime or not.\n",
        "\n",
        "Input: 5\n",
        "\n",
        "Output : 5 Prime Number"
      ],
      "metadata": {
        "id": "6QXP2bI0B6Rl"
      }
    },
    {
      "cell_type": "code",
      "source": [
        "def prime(n):\n",
        "  for i in range(2,n):\n",
        "    if n%i==0:\n",
        "      print(n,\" Not Prime\")\n",
        "      break\n",
        "    else:\n",
        "      continue\n",
        "  else:\n",
        "    print(n,\" Prime\")"
      ],
      "metadata": {
        "id": "vXSMvmvhCdeT"
      },
      "execution_count": 13,
      "outputs": []
    },
    {
      "cell_type": "code",
      "source": [
        "prime(int(input(\"Enter number: \")))\n",
        "prime(int(input(\"Enter number: \")))"
      ],
      "metadata": {
        "colab": {
          "base_uri": "https://localhost:8080/"
        },
        "id": "0VCQQFYkDAq2",
        "outputId": "2c162bc5-c981-4f92-c622-b89d2a76f8d1"
      },
      "execution_count": 16,
      "outputs": [
        {
          "output_type": "stream",
          "name": "stdout",
          "text": [
            "Enter number: 5\n",
            "5  Prime\n",
            "Enter number: 12\n",
            "12  Not Prime\n"
          ]
        }
      ]
    }
  ]
}