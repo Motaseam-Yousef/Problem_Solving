{
  "nbformat": 4,
  "nbformat_minor": 0,
  "metadata": {
    "colab": {
      "name": "Q51_54.ipynb",
      "provenance": []
    },
    "kernelspec": {
      "name": "python3",
      "display_name": "Python 3"
    },
    "language_info": {
      "name": "python"
    }
  },
  "cells": [
    {
      "cell_type": "markdown",
      "source": [
        "Q51: Accept a character from the user and check whether the\n",
        "character is a vowel or consonant. (Hint: a, e, i, o, u, A, E, |,\n",
        "O, U are vowels)"
      ],
      "metadata": {
        "id": "OXeUYY0OMqsw"
      }
    },
    {
      "cell_type": "code",
      "source": [
        "chr=input(\"Enter the character : \")\n",
        "vowel=['a','e','o','i','u','A','E','I',\"O\",'U']\n",
        "\n",
        "if chr in vowel:\n",
        "  print(\"The character from the user is a vowel.\")\n",
        "else:\n",
        "  print(\"The character from the user is a consonant.\")"
      ],
      "metadata": {
        "colab": {
          "base_uri": "https://localhost:8080/"
        },
        "id": "JNXUAZU9NkGk",
        "outputId": "e3f9c706-b261-4d40-dc47-205111cd0705"
      },
      "execution_count": 2,
      "outputs": [
        {
          "output_type": "stream",
          "name": "stdout",
          "text": [
            "Enter the character : c\n",
            "The character from the user is a consonant.\n"
          ]
        }
      ]
    },
    {
      "cell_type": "markdown",
      "source": [
        "Q52: Accept any year as input through the keyboard. Write a\n",
        "program to check whether the year is a leap year or not.\n",
        "(Hint leap year is divisible by 4 and not by 100 or divisible by\n",
        "400)"
      ],
      "metadata": {
        "id": "mi1Z5ENDOYJR"
      }
    },
    {
      "cell_type": "code",
      "source": [
        "yr=int(input(\"Enter the year: \"))\n",
        "\n",
        "if (yr%4==0) & (yr%100!=0):\n",
        "  print(\"Leap year!\")\n",
        "else:\n",
        "  print(\"Not Leap year!\")"
      ],
      "metadata": {
        "colab": {
          "base_uri": "https://localhost:8080/"
        },
        "id": "1RCLaYSIOadX",
        "outputId": "8861d660-6483-4f6a-eacf-9c482542b6ff"
      },
      "execution_count": 5,
      "outputs": [
        {
          "output_type": "stream",
          "name": "stdout",
          "text": [
            "Enter the year: 2000\n",
            "Not Leap year!\n"
          ]
        }
      ]
    },
    {
      "cell_type": "markdown",
      "source": [
        "Q53: Write a program to check whether given character is a digit\n",
        "or a character in lowercase or uppercase alphabet."
      ],
      "metadata": {
        "id": "AMMm5Jy2PUWN"
      }
    },
    {
      "cell_type": "code",
      "source": [
        "def check(c):\n",
        "  if c.isdigit():\n",
        "    print(\"The string contain digital value\")\n",
        "  elif c.islower():\n",
        "    print(\"The string contain lower case charachter\")\n",
        "  elif c.isupper():\n",
        "    print(\"The string contain upper case charachter\") \n",
        "  else:\n",
        "    print(\"The string contain anothers charachter\")\n",
        "  return\n",
        "\n",
        "check(input(\"Enter the string: \"))\n",
        "check(input(\"Enter the string: \"))\n",
        "check(input(\"Enter the string: \"))"
      ],
      "metadata": {
        "colab": {
          "base_uri": "https://localhost:8080/"
        },
        "id": "ANMdtBb6PWZi",
        "outputId": "5565d9a6-4091-4719-9b54-6aaf0ffe1fe9"
      },
      "execution_count": 9,
      "outputs": [
        {
          "output_type": "stream",
          "name": "stdout",
          "text": [
            "Enter the string: a\n",
            "The string contain lower case charachter\n",
            "Enter the string: A\n",
            "The string contain upper case charachter\n",
            "Enter the string: 5\n",
            "The string contain digital value\n"
          ]
        }
      ]
    },
    {
      "cell_type": "markdown",
      "source": [
        "Q54: Accept the x and y coordinate of a point and find the\n",
        "quadrant in which the point lies."
      ],
      "metadata": {
        "id": "5R2lT-gIRWor"
      }
    },
    {
      "cell_type": "code",
      "source": [
        "def quar(x,y):\n",
        "  if (x==0) & (y==0):\n",
        "    print(\"The point at the origin!\")\n",
        "  elif (x>=0) & (y>=0):\n",
        "    print(\"The point on the first Quarter!\")\n",
        "  elif (x>=0)&(y<=0):\n",
        "    print(\"The point on the Fourth Quarter!\")\n",
        "  elif (x<=0)&(y>=0):\n",
        "    print(\"The point on the second Quarter!\")\n",
        "  elif (x<=0)&(y<=0):\n",
        "    print(\"The point on the Third Quarter!\")\n",
        "  return \n",
        "\n",
        "quar((int(input(\"Enter the x value : \"))),(int(input(\"Enter the y value : \"))))\n",
        "quar((int(input(\"Enter the x value : \"))),(int(input(\"Enter the y value : \"))))\n",
        "quar((int(input(\"Enter the x value : \"))),(int(input(\"Enter the y value : \"))))\n",
        "quar((int(input(\"Enter the x value : \"))),(int(input(\"Enter the y value : \"))))"
      ],
      "metadata": {
        "colab": {
          "base_uri": "https://localhost:8080/"
        },
        "id": "f38xF9HkRZQO",
        "outputId": "a8e5521a-03ed-4ec1-e644-24837bbffed2"
      },
      "execution_count": 11,
      "outputs": [
        {
          "output_type": "stream",
          "name": "stdout",
          "text": [
            "Enter the x value : 4\n",
            "Enter the y value : 5\n",
            "The point on the first Quarter!\n",
            "Enter the x value : -5\n",
            "Enter the y value : 2\n",
            "The point on the second Quarter!\n",
            "Enter the x value : 5\n",
            "Enter the y value : -5\n",
            "The point on the Fourth Quarter!\n",
            "Enter the x value : -5\n",
            "Enter the y value : -5\n",
            "The point on the Third Quarter!\n"
          ]
        }
      ]
    }
  ]
}