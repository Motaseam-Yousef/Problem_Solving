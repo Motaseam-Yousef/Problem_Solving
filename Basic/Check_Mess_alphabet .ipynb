{
 "cells": [
  {
   "cell_type": "markdown",
   "id": "ae1aa217",
   "metadata": {},
   "source": [
    "# Discover the missing letter problem"
   ]
  },
  {
   "cell_type": "markdown",
   "id": "fa0aad0a",
   "metadata": {},
   "source": [
    "A code will be written to detect any missing character from the sequence"
   ]
  },
  {
   "cell_type": "code",
   "execution_count": 24,
   "id": "8314063e",
   "metadata": {},
   "outputs": [],
   "source": [
    "def check(String):\n",
    "    ls=[]\n",
    "    for i in range (len(String)):\n",
    "        if i==(len(String)-1):\n",
    "            break\n",
    "        a=ord(String[i])\n",
    "        b=ord(String[i+1])-1\n",
    "        if a==b:\n",
    "            continue\n",
    "        else:\n",
    "            for j in range(b-a):\n",
    "                ls.append(chr(a+1))\n",
    "        print(\"There a missing Data : \")\n",
    "        print(ls)\n",
    "    else:\n",
    "        print(\"No missing Data\")\n",
    "        \n",
    "        "
   ]
  },
  {
   "cell_type": "code",
   "execution_count": 25,
   "id": "f6a69b7a",
   "metadata": {},
   "outputs": [
    {
     "name": "stdout",
     "output_type": "stream",
     "text": [
      "Enter the charachter sequance  : abdef\n",
      "There a missing Data : \n",
      "['c']\n",
      "None\n"
     ]
    }
   ],
   "source": [
    "msg=input(\"Enter the charachter sequance  : \")\n",
    "print(check(msg))"
   ]
  },
  {
   "cell_type": "code",
   "execution_count": null,
   "id": "d28ff82e",
   "metadata": {},
   "outputs": [],
   "source": []
  }
 ],
 "metadata": {
  "kernelspec": {
   "display_name": "Python 3 (ipykernel)",
   "language": "python",
   "name": "python3"
  },
  "language_info": {
   "codemirror_mode": {
    "name": "ipython",
    "version": 3
   },
   "file_extension": ".py",
   "mimetype": "text/x-python",
   "name": "python",
   "nbconvert_exporter": "python",
   "pygments_lexer": "ipython3",
   "version": "3.9.12"
  }
 },
 "nbformat": 4,
 "nbformat_minor": 5
}
