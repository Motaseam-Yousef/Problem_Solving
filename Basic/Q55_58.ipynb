{
  "nbformat": 4,
  "nbformat_minor": 0,
  "metadata": {
    "colab": {
      "name": "Q55_58.ipynb",
      "provenance": []
    },
    "kernelspec": {
      "name": "python3",
      "display_name": "Python 3"
    },
    "language_info": {
      "name": "python"
    }
  },
  "cells": [
    {
      "cell_type": "markdown",
      "source": [
        "Q55: Write a program to calculate the roots of a quadratic\n",
        "equation. Consider all possible cases."
      ],
      "metadata": {
        "id": "OVA86b3s2C4I"
      }
    },
    {
      "cell_type": "code",
      "source": [
        "def root(a,b,c):\n",
        "  Discriminant=b**2-4*a*c\n",
        "  if Discriminant==0:\n",
        "    root=-1*b/(2*a)\n",
        "    print(f\"There one repeated solution {root} \")\n",
        "  elif Discriminant>0:\n",
        "    root1=(-1*b+(Discriminant)**0.5)/(2*a)\n",
        "    root2=(-1*b-(Discriminant)**0.5)/(2*a)\n",
        "    print(f\"There two real solution {root1} and {root2} \")   \n",
        "  elif Discriminant<0:\n",
        "    root1=(-1*b+(Discriminant*-1)**0.5)/(2*a)\n",
        "    root2=(-1*b-(Discriminant*-1)**0.5)/(2*a)\n",
        "    print(f\"There two imaginary solution {root1}i and {root2}i \")   \n",
        "\n",
        "root(float(input(\"Enter the x^2 factor : \")),float(input(\"Enter the x factor : \")),float(input(\"Enter the constant : \")))\n",
        "root(float(input(\"Enter the x^2 factor : \")),float(input(\"Enter the x factor : \")),float(input(\"Enter the constant : \")))\n",
        "root(float(input(\"Enter the x^2 factor : \")),float(input(\"Enter the x factor : \")),float(input(\"Enter the constant : \")))"
      ],
      "metadata": {
        "colab": {
          "base_uri": "https://localhost:8080/"
        },
        "id": "7vnnAVeW2TW5",
        "outputId": "7b406fb9-42ad-4ea3-85a4-a5f4ab9ecd71"
      },
      "execution_count": 2,
      "outputs": [
        {
          "output_type": "stream",
          "name": "stdout",
          "text": [
            "Enter the x^2 factor : 1\n",
            "Enter the x factor : 5\n",
            "Enter the constant : 6\n",
            "There two real solution -2.0 and -3.0 \n",
            "Enter the x^2 factor : 1\n",
            "Enter the x factor : 4\n",
            "Enter the constant : 4\n",
            "There one repeated solution -2.0 \n",
            "Enter the x^2 factor : 1\n",
            "Enter the x factor : 0\n",
            "Enter the constant : 4\n",
            "There two imaginary solution 2.0i and -2.0i \n"
          ]
        }
      ]
    },
    {
      "cell_type": "markdown",
      "source": [
        "Q56 : Accept the cost price and selling price from the keyboard.\n",
        "Find out if the seller has made a profit or loss and display\n",
        "how much profit or loss has been made."
      ],
      "metadata": {
        "id": "V1JbepUH5K0Y"
      }
    },
    {
      "cell_type": "code",
      "source": [
        "def PL(price,selling):\n",
        "  if selling>price:\n",
        "    print(\"The seller has made profit : \", selling-price)\n",
        "  elif selling<price:\n",
        "    print(\"The seller has made loss : \", price-selling)\n",
        "  else:\n",
        "    print(\"The seller sell without profit or loss !!! \")\n",
        "\n",
        "PL(float(input(\"Enter price : \")),float(input(\"Enter the selling value : \")))\n",
        "PL(float(input(\"Enter price : \")),float(input(\"Enter the selling value : \")))\n",
        "PL(float(input(\"Enter price : \")),float(input(\"Enter the selling value : \")))"
      ],
      "metadata": {
        "colab": {
          "base_uri": "https://localhost:8080/"
        },
        "id": "bPKDcVWj5PpH",
        "outputId": "b2606b21-49d8-4c90-b73f-2d9a7d7ff1cf"
      },
      "execution_count": 6,
      "outputs": [
        {
          "output_type": "stream",
          "name": "stdout",
          "text": [
            "Enter price : 1000\n",
            "Enter the selling value : 1200\n",
            "The seller has made profit :  200.0\n",
            "Enter price : 1000\n",
            "Enter the selling value : 600\n",
            "The seller has made loss :  400.0\n",
            "Enter price : 1000\n",
            "Enter the selling value : 1000\n",
            "The seller sell without profit or loss !!! \n"
          ]
        }
      ]
    },
    {
      "cell_type": "markdown",
      "source": [
        "Q57: A library charges a fine for every book returned late. Accept\n",
        "the number of days the member is late, compute and print\n",
        "the fine as follows: (less than five days Rs. 5 fine, for 6 to 10\n",
        "days Rs. 10 fine and above 10 days Rs. 15 fine )"
      ],
      "metadata": {
        "id": "YaTtwQo37IP1"
      }
    },
    {
      "cell_type": "code",
      "source": [
        "def fine(f):\n",
        "  if f<=5:\n",
        "    print(\"The fine is 5$\")\n",
        "  elif 5<f<10:\n",
        "    print(\"The fine is 10$\")\n",
        "  else:\n",
        "    print(\"The fine is 15$\")\n",
        "\n",
        "fine(int(input(\"Enter the number of days : \")))\n",
        "fine(int(input(\"Enter the number of days : \")))\n",
        "fine(int(input(\"Enter the number of days : \")))"
      ],
      "metadata": {
        "colab": {
          "base_uri": "https://localhost:8080/"
        },
        "id": "DphsxECk7Nu4",
        "outputId": "09ce1422-b1d5-4122-849f-bc55a9f7c597"
      },
      "execution_count": 7,
      "outputs": [
        {
          "output_type": "stream",
          "name": "stdout",
          "text": [
            "Enter the number of days : 4\n",
            "The fine is 5$\n",
            "Enter the number of days : 8\n",
            "The fine is 10$\n",
            "Enter the number of days : 20\n",
            "The fine is 15$\n"
          ]
        }
      ]
    },
    {
      "cell_type": "markdown",
      "source": [
        "Q58 : Write a program, which accepts two integers and an\n",
        "operator as a character (+ - * /), performs the corresponding\n",
        "operation and displays the’ result."
      ],
      "metadata": {
        "id": "xK3MbC6_8Ail"
      }
    },
    {
      "cell_type": "code",
      "source": [
        "n1=float(input(\"Enter number one : \"))\n",
        "n2=float(input(\"Enter number two : \"))\n",
        "op=input(\"Enter the operator : \")\n",
        "\n",
        "if op=='+':\n",
        "  print(n1+n2)\n",
        "elif op=='-':\n",
        "  print(n1-n2)\n",
        "elif op=='*':\n",
        "  print(n1*n2)\n",
        "elif op=='/':\n",
        "  if n2==0:\n",
        "    print(\"Divide by zero !!!\")\n",
        "  else:\n",
        "    print(n1/n2)"
      ],
      "metadata": {
        "colab": {
          "base_uri": "https://localhost:8080/"
        },
        "id": "MGNmUOZh8Fvz",
        "outputId": "1fdd3fbb-de9d-4f7f-964c-4d00d8e6dc38"
      },
      "execution_count": 9,
      "outputs": [
        {
          "output_type": "stream",
          "name": "stdout",
          "text": [
            "Enter number one : 8\n",
            "Enter number two : 0\n",
            "Enter the operator : /\n",
            "Divide by zero !!!\n"
          ]
        }
      ]
    }
  ]
}