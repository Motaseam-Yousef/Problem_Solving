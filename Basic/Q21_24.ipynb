{
  "nbformat": 4,
  "nbformat_minor": 0,
  "metadata": {
    "colab": {
      "name": "Q21_24.ipynb",
      "provenance": []
    },
    "kernelspec": {
      "name": "python3",
      "display_name": "Python 3"
    },
    "language_info": {
      "name": "python"
    }
  },
  "cells": [
    {
      "cell_type": "markdown",
      "source": [
        "Q21: Write a program to accept n numbers from user and store it\n",
        "into List. Return addition of all elements from that List.\n",
        "\n",
        "input:\n",
        "Enter number of elements: 7\n",
        "\n",
        "Enter elements : 34 56 12 67 8 9 23\n",
        "\n",
        "Output : 209"
      ],
      "metadata": {
        "id": "teW6BrYXXXFW"
      }
    },
    {
      "cell_type": "code",
      "source": [
        "ls=[]\n",
        "n=int(input(\"Enter the number of Elements: \"))\n",
        "for i in range(n):\n",
        "  ls.append(int(input(\"Enter the Element: \")))\n",
        "\n",
        "print(sum(ls))"
      ],
      "metadata": {
        "colab": {
          "base_uri": "https://localhost:8080/"
        },
        "id": "tQslBWCqXhJv",
        "outputId": "309507bb-9fc0-4e22-a6c6-7326167f946a"
      },
      "execution_count": 1,
      "outputs": [
        {
          "output_type": "stream",
          "name": "stdout",
          "text": [
            "Enter the number of Elements: 7\n",
            "Enter the Element: 34\n",
            "Enter the Element: 56\n",
            "Enter the Element: 12\n",
            "Enter the Element: 67\n",
            "Enter the Element: 8\n",
            "Enter the Element: 9\n",
            "Enter the Element: 23\n",
            "209\n"
          ]
        }
      ]
    },
    {
      "cell_type": "markdown",
      "source": [
        "Q22: Write a program to accept n numbers from user and\n",
        "store it into List. Return maximum number from that\n",
        "List."
      ],
      "metadata": {
        "id": "KW5XmuCIX7dQ"
      }
    },
    {
      "cell_type": "code",
      "source": [
        "ls=[]\n",
        "n=int(input(\"Enter the number of Elements: \"))\n",
        "for i in range(n):\n",
        "  ls.append(int(input(\"Enter the Element: \")))\n",
        "\n",
        "print(max(ls))"
      ],
      "metadata": {
        "colab": {
          "base_uri": "https://localhost:8080/"
        },
        "id": "D9iA78mNYMzQ",
        "outputId": "103e9354-fffa-4311-fe0d-f10d6c451634"
      },
      "execution_count": 2,
      "outputs": [
        {
          "output_type": "stream",
          "name": "stdout",
          "text": [
            "Enter the number of Elements: 7\n",
            "Enter the Element: 34\n",
            "Enter the Element: 56\n",
            "Enter the Element: 12\n",
            "Enter the Element: 67\n",
            "Enter the Element: 8\n",
            "Enter the Element: 9\n",
            "Enter the Element: 23\n",
            "67\n"
          ]
        }
      ]
    },
    {
      "cell_type": "markdown",
      "source": [
        "Q23: Write a program to accept n numbers from user and\n",
        "store it into List. Return min number from that\n",
        "List."
      ],
      "metadata": {
        "id": "05GgzqPdYor0"
      }
    },
    {
      "cell_type": "code",
      "source": [
        "ls=[]\n",
        "n=int(input(\"Enter the number of Elements: \"))\n",
        "for i in range(n):\n",
        "  ls.append(int(input(\"Enter the Element: \")))\n",
        "\n",
        "print(min(ls))\n",
        "\n",
        "# or by write the min function\n",
        "mn=ls[0] #min number\n",
        "for i in range(n):\n",
        "  if ls[i]<mn:\n",
        "    mn=ls[i]\n",
        "\n",
        "print(f\"The min number in the list is {mn}\")"
      ],
      "metadata": {
        "colab": {
          "base_uri": "https://localhost:8080/"
        },
        "id": "Afvs6VCWYtWj",
        "outputId": "3102d2de-48b8-4b2f-92ac-0709b552fdb2"
      },
      "execution_count": 4,
      "outputs": [
        {
          "output_type": "stream",
          "name": "stdout",
          "text": [
            "Enter the number of Elements: 7\n",
            "Enter the Element: 34\n",
            "Enter the Element: 56\n",
            "Enter the Element: 12\n",
            "Enter the Element: 67\n",
            "Enter the Element: 8\n",
            "Enter the Element: 9\n",
            "Enter the Element: 23\n",
            "8\n",
            "The min number in the list is 8\n"
          ]
        }
      ]
    },
    {
      "cell_type": "markdown",
      "source": [
        "Q24: Write a program to accept n numbers from user and\n",
        "store it into List. Accept one number from user and\n",
        "return frequency of that number from List.\n",
        "\n",
        "input :\n",
        "\n",
        "Number of elements : 11\n",
        "\n",
        "Enter elements: 10 5 7 5 8 23 5 4 9 11 5\n",
        "\n",
        "Element to search:5 \n",
        "\n",
        "Output : 4 "
      ],
      "metadata": {
        "id": "zKTqkC5fZygy"
      }
    },
    {
      "cell_type": "code",
      "source": [
        "ls=[]\n",
        "n=int(input(\"Enter the number of Elements: \"))\n",
        "for i in range(n):\n",
        "  ls.append(int(input(\"Enter the Element: \")))\n",
        "\n",
        "SearchNumber=int((input(\"Enter the Search Element: \")))\n",
        "\n",
        "#Using Count elemnt directly\n",
        "print(f\"the {SearchNumber} Repetead : \",ls.count(SearchNumber),\" Times\")\n"
      ],
      "metadata": {
        "colab": {
          "base_uri": "https://localhost:8080/"
        },
        "id": "bZdw_lhEZ2uJ",
        "outputId": "515ce641-df3b-47ce-f5fc-e24bc3e40665"
      },
      "execution_count": 15,
      "outputs": [
        {
          "output_type": "stream",
          "name": "stdout",
          "text": [
            "Enter the number of Elements: 11\n",
            "Enter the Element: 10\n",
            "Enter the Element: 5\n",
            "Enter the Element: 7\n",
            "Enter the Element: 5\n",
            "Enter the Element: 8\n",
            "Enter the Element: 23\n",
            "Enter the Element: 5\n",
            "Enter the Element: 4\n",
            "Enter the Element: 9\n",
            "Enter the Element: 11\n",
            "Enter the Element: 5\n",
            "Enter the Search Element: 5\n",
            "the 5 Repetead :  4  Times\n"
          ]
        }
      ]
    },
    {
      "cell_type": "code",
      "source": [
        "#Write count function\n",
        "def Count(l,S):\n",
        "  #l: list to search in\n",
        "  #S: Search number\n",
        "  r=0 #repeated value\n",
        "  for i in range (len(l)):\n",
        "    if l[i]==S:\n",
        "      r+=1\n",
        "    else:\n",
        "      continue\n",
        "  return r"
      ],
      "metadata": {
        "id": "hSmYLNbPa6J5"
      },
      "execution_count": 16,
      "outputs": []
    },
    {
      "cell_type": "code",
      "source": [
        "rep=Count(ls,SearchNumber)\n",
        "print(f\"the {SearchNumber} Repetead : \",rep,\" Times\")"
      ],
      "metadata": {
        "colab": {
          "base_uri": "https://localhost:8080/"
        },
        "id": "51jCZAOEcS_X",
        "outputId": "e631e2c4-4337-4925-b866-34920a33ef26"
      },
      "execution_count": 17,
      "outputs": [
        {
          "output_type": "stream",
          "name": "stdout",
          "text": [
            "the 5 Repetead :  4  Times\n"
          ]
        }
      ]
    }
  ]
}