{
  "nbformat": 4,
  "nbformat_minor": 0,
  "metadata": {
    "colab": {
      "name": "Q47_Q50.ipynb",
      "provenance": []
    },
    "kernelspec": {
      "name": "python3",
      "display_name": "Python 3"
    },
    "language_info": {
      "name": "python"
    }
  },
  "cells": [
    {
      "cell_type": "markdown",
      "source": [
        "Q47: Write a program to accept three numbers and check\n",
        "whether the first is between the other two numbers.\n",
        "\n",
        "e.g.\n",
        "\n",
        "Input: 20 10 30\n",
        "\n",
        "Output: 20 is between 10 and 30"
      ],
      "metadata": {
        "id": "KhHaQrqCK-LO"
      }
    },
    {
      "cell_type": "code",
      "source": [
        "n1=int(input(\"Enter the first number : \"))\n",
        "n2=int(input(\"Enter the Second number : \"))\n",
        "n3=int(input(\"Enter the third number : \"))\n",
        "\n",
        "if (n2<n1<n3) | (n2>n1>n3):\n",
        "  print(f\"{n1} is between {n2} and {n3}\")\n",
        "else:\n",
        "  print(f\"{n1} not in between {n2} and {n3}\")"
      ],
      "metadata": {
        "colab": {
          "base_uri": "https://localhost:8080/"
        },
        "id": "TU4I-b4hLSO2",
        "outputId": "43ca9aba-94ee-474b-b485-04a80214d035"
      },
      "execution_count": 1,
      "outputs": [
        {
          "output_type": "stream",
          "name": "stdout",
          "text": [
            "Enter the first number : 20\n",
            "Enter the Second number : 10\n",
            "Enter the third number : 30\n",
            "20 is between 10 and 30\n"
          ]
        }
      ]
    },
    {
      "cell_type": "markdown",
      "source": [
        "Q48: Accept a character as input and check whether the character\n",
        "is a digit. (Check if it is in the range ‘0’ to ‘9’ both inclusive)"
      ],
      "metadata": {
        "id": "AZjwVoZuL71_"
      }
    },
    {
      "cell_type": "code",
      "source": [
        "c=input(\"Enter the character : \")\n",
        "#the \"0\" value is 48, and \"9\" is 57\n",
        "if (48<=ord(c)<=57):\n",
        "  print(f\"{c} is digit\")\n",
        "else:\n",
        "  print(f\"{c} is not digit\")"
      ],
      "metadata": {
        "colab": {
          "base_uri": "https://localhost:8080/"
        },
        "id": "jBJq1dg3MN80",
        "outputId": "1ec2a406-7b22-4a0d-adf0-e6c531ceba7e"
      },
      "execution_count": 8,
      "outputs": [
        {
          "output_type": "stream",
          "name": "stdout",
          "text": [
            "Enter the character : 5\n",
            "5 is digit\n"
          ]
        }
      ]
    },
    {
      "cell_type": "code",
      "source": [
        "#or\n",
        "c=input(\"Enter the character : \")\n",
        "#the \"0\" value is 48, and \"9\" is 57\n",
        "if (\"0\"<=c<=\"9\"):\n",
        "  print(f\"{c} is digit\")\n",
        "else:\n",
        "  print(f\"{c} is not digit\")"
      ],
      "metadata": {
        "colab": {
          "base_uri": "https://localhost:8080/"
        },
        "id": "FxTCegJkNEdQ",
        "outputId": "e74d9aa0-75ee-4732-c413-4a24e7990ed4"
      },
      "execution_count": 11,
      "outputs": [
        {
          "output_type": "stream",
          "name": "stdout",
          "text": [
            "Enter the character : 8\n",
            "8 is digit\n"
          ]
        }
      ]
    },
    {
      "cell_type": "markdown",
      "source": [
        "Q49: Write a program to accept a number and check if it is\n",
        "divisible by 5 and 7."
      ],
      "metadata": {
        "id": "7nIrXqIpNa8q"
      }
    },
    {
      "cell_type": "code",
      "source": [
        "n=int(input(\"Enter a number : \"))\n",
        "if (n%5==0) & (n%7==0):\n",
        "  print(f\"{n} divisible by 5 and 7\")\n",
        "else:\n",
        "  print(f\"{n} not divisible by 5 and 7\")\n"
      ],
      "metadata": {
        "colab": {
          "base_uri": "https://localhost:8080/"
        },
        "id": "HgSvtNrqNqq0",
        "outputId": "500df350-260f-4048-cf36-7144af8e9d56"
      },
      "execution_count": 13,
      "outputs": [
        {
          "output_type": "stream",
          "name": "stdout",
          "text": [
            "Enter a number : 12\n",
            "12 not divisible by 5 and 7\n"
          ]
        }
      ]
    },
    {
      "cell_type": "markdown",
      "source": [
        "Q50: Write a program, which accepts annual basic salary of an\n",
        "employee and calculates and displays the Income tax as per\n",
        "the following rules:\n",
        "\n",
        "Basic < 1,50,000 Tax =0\n",
        "\n",
        "1,50,000 to 3,00,000 Tax = 20%\n",
        "\n",
        "larger than 3,00,000 Tax = 30% "
      ],
      "metadata": {
        "id": "7ELoY2xIOeUi"
      }
    },
    {
      "cell_type": "code",
      "source": [
        "salary=float(input(\"Enter the salary: \"))\n",
        "if salary>=300000:\n",
        "  tax=salary*0.3\n",
        "  print(f\"The Tax is {tax}\")\n",
        "elif 150000<salary<=300000:\n",
        "  tax=salary*0.2\n",
        "  print(f\"The Tax is {tax}\")\n",
        "else:\n",
        "  print(\"Tax = 0\")\n"
      ],
      "metadata": {
        "colab": {
          "base_uri": "https://localhost:8080/"
        },
        "id": "Djji5TNWOl3A",
        "outputId": "9ff4179d-ce1b-44f8-a531-d96514d2ff82"
      },
      "execution_count": 15,
      "outputs": [
        {
          "output_type": "stream",
          "name": "stdout",
          "text": [
            "Enter the salary: 250000\n",
            "The Tax is 50000.0\n"
          ]
        }
      ]
    }
  ]
}