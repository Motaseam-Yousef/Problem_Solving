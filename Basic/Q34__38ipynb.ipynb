{
  "nbformat": 4,
  "nbformat_minor": 0,
  "metadata": {
    "colab": {
      "name": "Q34_.38ipynb",
      "provenance": []
    },
    "kernelspec": {
      "name": "python3",
      "display_name": "Python 3"
    },
    "language_info": {
      "name": "python"
    }
  },
  "cells": [
    {
      "cell_type": "markdown",
      "source": [
        "Q34: Accept dimensions of a cylinder and print the surface area\n",
        "and volume. \n",
        "\n",
        "(Hint: \n",
        "\n",
        "surface area = 2*pi*r^2 + 2pi*r*h, \n",
        "\n",
        "volume =pi*r^2*h)"
      ],
      "metadata": {
        "id": "_uze42QpUX58"
      }
    },
    {
      "cell_type": "code",
      "source": [
        "r=float(input(\"Enter the raduies: \"))\n",
        "h=float(input(\"Enter the height: \"))\n",
        "\n",
        "SurfaceArea=2*3.14*r*(r+h)\n",
        "Volume=3.14*h*(r**2)\n",
        "\n",
        "print(f\"The surface of cylinder is {SurfaceArea}, The volume of the cylinder is {Volume}\")"
      ],
      "metadata": {
        "colab": {
          "base_uri": "https://localhost:8080/"
        },
        "id": "hMaaLl-EVKVx",
        "outputId": "e05b456b-b817-45a1-9fc2-41917a8edc39"
      },
      "execution_count": 2,
      "outputs": [
        {
          "output_type": "stream",
          "name": "stdout",
          "text": [
            "Enter the raduies: 10\n",
            "Enter the height: 10\n",
            "The surface of cylinder is 1256.0, The volume of the cylinder is 3140.0\n"
          ]
        }
      ]
    },
    {
      "cell_type": "markdown",
      "source": [
        "Q35: Accept temperature in Fahrenheit (F) and print it in\n",
        "Celsius(C) and Kelvin (K) \n",
        "\n",
        "(Hint: \n",
        "C=(5/9)*(F-32)\n",
        "\n",
        "K =C + 273.15)\n"
      ],
      "metadata": {
        "id": "GJzybAj7Wujg"
      }
    },
    {
      "cell_type": "code",
      "source": [
        "F=float(input(\"Enter the Temperature in Fehan: \"))\n",
        "C=round((5/9)*(F-32),2)\n",
        "K=round(C+273.15,2)\n",
        "\n",
        "print(f\"The Temp in C {C}, The Temp in K {K}\")"
      ],
      "metadata": {
        "colab": {
          "base_uri": "https://localhost:8080/"
        },
        "id": "3hxlnmN_Wzr9",
        "outputId": "af79ac49-4d14-4891-e244-dc44fb24766b"
      },
      "execution_count": 5,
      "outputs": [
        {
          "output_type": "stream",
          "name": "stdout",
          "text": [
            "Enter the Temperature in Fehan: 65\n",
            "The Temp in C 18.33, The Temp in K 291.48\n"
          ]
        }
      ]
    },
    {
      "cell_type": "markdown",
      "source": [
        "Q36: Accept initial velocity (u), acceleration (a) and time (t). Print\n",
        "the final velocity (v) and the distance (s) travelled.\n",
        " (Hint: v =u+at,\n",
        " s=u + at^2)"
      ],
      "metadata": {
        "id": "ZBeAEuARX84q"
      }
    },
    {
      "cell_type": "code",
      "source": [
        "u=float(input(\"Enter the initial velocity in m/s: \"))\n",
        "a=float(input(\"Enter the accelleration in m/s2: \"))\n",
        "t=float(input(\"Enter the time in s: \"))\n",
        "\n",
        "v=u+a*t\n",
        "s=u+a*t*t\n",
        "\n",
        "print(f\"The final velocity is {v} m/s, The ditance is {s} sec\")\n"
      ],
      "metadata": {
        "colab": {
          "base_uri": "https://localhost:8080/"
        },
        "id": "hcrfLVPTYAgD",
        "outputId": "551ac06e-9c10-49b8-ae1c-e45ff17a0704"
      },
      "execution_count": 8,
      "outputs": [
        {
          "output_type": "stream",
          "name": "stdout",
          "text": [
            "Enter the initial velocity in m/s: 0\n",
            "Enter the accelleration in m/s2: 10\n",
            "Enter the time in s: 10\n",
            "The final velocity is 100.0 m/s, The ditance is 1000.0 sec\n"
          ]
        }
      ]
    },
    {
      "cell_type": "markdown",
      "source": [
        "Q37: Accept inner and outer radius of a ring and print the\n",
        "perimeter and area of the ring \n",
        "(Hint: perimeter = 2pi(a+b) ,\n",
        "area = pi (a^2-b^2)) "
      ],
      "metadata": {
        "id": "b6ftVfgwbFgB"
      }
    },
    {
      "cell_type": "code",
      "source": [
        "a=float(input(\"Enter the outter raduies : \"))\n",
        "b=float(input(\"Enter the inner raduies : \"))\n",
        "\n",
        "perimeter=2*3.14*(a+b)\n",
        "area=3.14*(a**2-b**2)\n",
        "print(f\"The perimeter is {perimeter}, The area is {area} \")\n"
      ],
      "metadata": {
        "colab": {
          "base_uri": "https://localhost:8080/"
        },
        "id": "pIHfF3DwbJdz",
        "outputId": "039efb3d-78bf-463e-88cf-2a53cb67920b"
      },
      "execution_count": 9,
      "outputs": [
        {
          "output_type": "stream",
          "name": "stdout",
          "text": [
            "Enter the outter raduies : 10\n",
            "Enter the inner raduies : 5\n",
            "The perimeter is 94.2, The area is 235.5 \n"
          ]
        }
      ]
    },
    {
      "cell_type": "markdown",
      "source": [
        "Q38: Accept two numbers and print arithmetic and harmonic\n",
        "mean of the two numbers \n",
        "\n",
        "(Hint: AM=(a+b)/2\n",
        "\n",
        "HM =a*b/(a+b)\n",
        "\n",
        ")"
      ],
      "metadata": {
        "id": "SRHtPx2GcFZN"
      }
    },
    {
      "cell_type": "code",
      "source": [
        "a=float(input(\"Enter the first number : \"))\n",
        "b=float(input(\"Enter the second number : \"))\n",
        "\n",
        "AM=(a+b)/2\n",
        "HM=(a*b)/(a+b)\n",
        "print(f\"The arithmetic mean is {AM}, The  harmonic mean is {HM} \")"
      ],
      "metadata": {
        "colab": {
          "base_uri": "https://localhost:8080/"
        },
        "id": "BM08nnCecJ2j",
        "outputId": "7bc85e4e-30e4-40ce-a872-3813f9b7bd2d"
      },
      "execution_count": 10,
      "outputs": [
        {
          "output_type": "stream",
          "name": "stdout",
          "text": [
            "Enter the first number : 5\n",
            "Enter the second number : 5\n",
            "The arithmetic mean is 5.0, The  harmonic mean is 2.5 \n"
          ]
        }
      ]
    }
  ]
}