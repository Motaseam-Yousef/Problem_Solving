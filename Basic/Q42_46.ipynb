{
  "nbformat": 4,
  "nbformat_minor": 0,
  "metadata": {
    "colab": {
      "name": "Q42_46.ipynb",
      "provenance": []
    },
    "kernelspec": {
      "name": "python3",
      "display_name": "Python 3"
    },
    "language_info": {
      "name": "python"
    }
  },
  "cells": [
    {
      "cell_type": "markdown",
      "source": [
        "Q42: Accept the x and y coordinates of two points. Compute the\n",
        "distance between the two points.\n",
        "Hint the distance between two points is:\n",
        "sqrt((x1-x2)^2-(y1-y2)^2)"
      ],
      "metadata": {
        "id": "e6S3jeR-2Jd9"
      }
    },
    {
      "cell_type": "code",
      "source": [
        "x1=float(input(\"Enter the x value for point one: \"))\n",
        "y1=float(input(\"Enter the y value for point one: \"))\n",
        "x2=float(input(\"Enter the x value for point two: \"))\n",
        "y2=float(input(\"Enter the y value for point two: \"))\n",
        "\n",
        "distance=(((x1-x2)**2)+((y1-y2)**2))**0.5\n",
        "print(f\"the distance between the points is {distance}\")"
      ],
      "metadata": {
        "colab": {
          "base_uri": "https://localhost:8080/"
        },
        "id": "y4HIAACv2k6Z",
        "outputId": "96bc2761-c8ed-4ddb-c992-67481cd4be48"
      },
      "execution_count": 2,
      "outputs": [
        {
          "output_type": "stream",
          "name": "stdout",
          "text": [
            "Enter the x value for point one: 0\n",
            "Enter the y value for point one: 0\n",
            "Enter the x value for point two: 5\n",
            "Enter the y value for point two: 5\n",
            "the distance between the points is 7.0710678118654755\n"
          ]
        }
      ]
    },
    {
      "cell_type": "markdown",
      "source": [
        "Q43: Accept two integers from the user and interchange them.\n",
        "Display the interchanged numbers."
      ],
      "metadata": {
        "id": "h1thH8cK3iPW"
      }
    },
    {
      "cell_type": "code",
      "source": [
        "#solution with extra variables\n",
        "x=int(input(\"Enter the first number : \"))\n",
        "y=int(input(\"Enter the second number : \"))\n",
        "\n",
        "z=x\n",
        "x=y\n",
        "y=z\n",
        "\n",
        "print(f\"the new value for first variable is {x}, the the new value for second variable is {y} \")"
      ],
      "metadata": {
        "colab": {
          "base_uri": "https://localhost:8080/"
        },
        "id": "P2EHyPly3kt5",
        "outputId": "14244cb7-0cb6-4c04-caab-c995be7d7caf"
      },
      "execution_count": 3,
      "outputs": [
        {
          "output_type": "stream",
          "name": "stdout",
          "text": [
            "Enter the first number : 10\n",
            "Enter the second number : 5\n",
            "the new value for first variable is 5, the the new value for second variable is 10 \n"
          ]
        }
      ]
    },
    {
      "cell_type": "code",
      "source": [
        "#solution without extra variables\n",
        "x=int(input(\"Enter the first number : \"))\n",
        "y=int(input(\"Enter the second number : \"))\n",
        "\n",
        "x+=y\n",
        "y=x-y\n",
        "x=x-y\n",
        "\n",
        "print(f\"the new value for first variable is {x}, the the new value for second variable is {y} \")"
      ],
      "metadata": {
        "colab": {
          "base_uri": "https://localhost:8080/"
        },
        "id": "VtOlkXbU4NcK",
        "outputId": "59b4b7ff-0eb7-4b83-d9a0-4a1c57ca9291"
      },
      "execution_count": 5,
      "outputs": [
        {
          "output_type": "stream",
          "name": "stdout",
          "text": [
            "Enter the first number : 10\n",
            "Enter the second number : 5\n",
            "the new value for first variable is 5, the the new value for second variable is 10 \n"
          ]
        }
      ]
    },
    {
      "cell_type": "markdown",
      "source": [
        "Q44: A cashier has currency notes of denomination 1, 5 and 10.\n",
        "Accept the amount to be withdrawn from the user and print\n",
        "the total number of currency notes of each denomination\n",
        "the cashier will have to give."
      ],
      "metadata": {
        "id": "DBc0JRAU47a3"
      }
    },
    {
      "cell_type": "code",
      "source": [
        "cash=int(input(\"Enter the cash value : \"))\n",
        "P10=0\n",
        "P5=0\n",
        "P1=0\n",
        "while(cash!=0):\n",
        "  if (cash>=10):\n",
        "    P10+=1\n",
        "    cash-=10\n",
        "  elif ((cash>=5) & (cash<10)):\n",
        "    P5+=1\n",
        "    cash-5\n",
        "  else:\n",
        "    P1+=1\n",
        "    cash-=1\n",
        "\n",
        "print(f\"The amount of 10 coins is {P10}, The amount of 5 coins is {P5}, and the amount of 1 coin is {P1}\")\n"
      ],
      "metadata": {
        "colab": {
          "base_uri": "https://localhost:8080/"
        },
        "id": "uadNGX8j4_GO",
        "outputId": "5bca642c-f800-4e72-db5d-889db348b26e"
      },
      "execution_count": 6,
      "outputs": [
        {
          "output_type": "stream",
          "name": "stdout",
          "text": [
            "Enter the cash value : 112\n",
            "The amount of 10 coins is 11, The amount of 5 coins is 0, and the amount of 1 coin is 2\n"
          ]
        }
      ]
    },
    {
      "cell_type": "markdown",
      "source": [
        "Q45: Consider a room having one door and two windows both of\n",
        "the same size. Accept dimensions of the room, door and\n",
        "window. Print the area to be painted (interior walls) and\n",
        "area to be whitewashed (roof)."
      ],
      "metadata": {
        "id": "Xtkk6Idx61mX"
      }
    },
    {
      "cell_type": "code",
      "source": [
        "#Area will be painted = 4 * area of one wall - 2 * indow area- 1 *door area\n",
        "#this without the ceil calculation\n",
        "\n",
        "wall=float(input(\"Enter the walls area: \"))\n",
        "door=float(input(\"Enter the door area: \"))\n",
        "window=float(input(\"Enter the window area: \"))\n",
        "\n",
        "paint_area=4*wall-2*window-door\n",
        "\n",
        "print(f\"The painted area for this room is {paint_area}\")"
      ],
      "metadata": {
        "colab": {
          "base_uri": "https://localhost:8080/"
        },
        "id": "e8k_AhM367b8",
        "outputId": "98521600-446d-49f1-f45a-d2745706696b"
      },
      "execution_count": 7,
      "outputs": [
        {
          "output_type": "stream",
          "name": "stdout",
          "text": [
            "Enter the walls area: 100\n",
            "Enter the door area: 50\n",
            "Enter the window area: 10\n",
            "The painted area for this room is 330.0\n"
          ]
        }
      ]
    },
    {
      "cell_type": "markdown",
      "source": [
        "Q46: The basic salary of an employee is decided at the time of\n",
        "employment, which may be different for different\n",
        "employees. Apart from basic, employee gets 10% of basic as\n",
        "house rent, 30% of basic as dearness allowance. A\n",
        "professional tax of 5% of basic is deducted from salary.\n",
        "Accept the employee id and basic salary for an employee\n",
        "and output the take home salary of the employee."
      ],
      "metadata": {
        "id": "ojLIOD218ahx"
      }
    },
    {
      "cell_type": "code",
      "source": [
        "#The salary of the employee will be:\n",
        "#S = Basic Salary + Basic Salary * 0.1 + Basic Salary * 0.3 - Basic Salary * 0.05\n",
        "#S = Basic Salary ( 1+ 0.1 + 0.3 -0.05)\n",
        "#S = Basic Salary * 1.35\n",
        "\n",
        "basic=float(input(\"Enter the Basic Salary : \"))\n",
        "House=basic*0.1\n",
        "dearness=basic*0.3\n",
        "tax=basic*0.05\n",
        "Salary=basic+House+dearness-tax\n",
        "\n",
        "print(f\"The final salary is {Salary}, the House Rent {House}, the dearness allowance {dearness}, the tax value {tax}\")"
      ],
      "metadata": {
        "colab": {
          "base_uri": "https://localhost:8080/"
        },
        "id": "pjHxh4Wn87v1",
        "outputId": "96f29c55-8926-47d3-eab6-670fe69a52eb"
      },
      "execution_count": 8,
      "outputs": [
        {
          "output_type": "stream",
          "name": "stdout",
          "text": [
            "Enter the Basic Salary : 1000\n",
            "The final salary is 1350.0, the House Rent 100.0, the dearness allowance 300.0, the tax value 50.0\n"
          ]
        }
      ]
    }
  ]
}