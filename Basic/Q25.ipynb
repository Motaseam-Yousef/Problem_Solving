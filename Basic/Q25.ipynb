{
  "nbformat": 4,
  "nbformat_minor": 0,
  "metadata": {
    "colab": {
      "name": "Q25.ipynb",
      "provenance": []
    },
    "kernelspec": {
      "name": "python3",
      "display_name": "Python 3"
    },
    "language_info": {
      "name": "python"
    }
  },
  "cells": [
    {
      "cell_type": "markdown",
      "source": [
        "Q25: Write a program to accept n numbers from user and store it\n",
        "into List. Return addition of all prime numbers from that\n",
        "List. Main python program accepts n numbers from user and\n",
        "pass each number to check_prime() function.\n",
        "\n",
        "Input : \n",
        "Enter number of elements : 11\n",
        "\n",
        "Enter elements : 11 3 12 8 6 9 17 9 5 7  28\n",
        "\n",
        "Output :43(11+3+17+5+7)"
      ],
      "metadata": {
        "id": "OTJG2WhZ5lRd"
      }
    },
    {
      "cell_type": "code",
      "source": [
        "ls=[]\n",
        "n=int(input(\"Enter the length of the list : \"))\n",
        "for i in range(n):\n",
        "  ls.append(int(input(\"Enter the number : \")))\n",
        "\n",
        "def check_prime(l):\n",
        "  p=[]\n",
        "  for i in range(len(l)):\n",
        "    for j in range(2,l[i]):\n",
        "      if ls[i]%j==0:\n",
        "        break\n",
        "    else:\n",
        "      p.append(l[i])\n",
        "  return p,sum(p)\n",
        "\n",
        "mtrx,su=check_prime(ls)\n",
        "print(\"The sum of the prime numbers: \",su)\n",
        "print(\"The prime numbers :  \",end=\" \")\n",
        "for i in range(len(mtrx)):\n",
        "  print(f\"{mtrx[i]}\",end=\" \")"
      ],
      "metadata": {
        "colab": {
          "base_uri": "https://localhost:8080/"
        },
        "id": "gm1_cyB36R2u",
        "outputId": "eb8bf2ca-711e-4847-e12f-569b91fa12e4"
      },
      "execution_count": 26,
      "outputs": [
        {
          "output_type": "stream",
          "name": "stdout",
          "text": [
            "Enter the length of the list : 11\n",
            "Enter the number : 3\n",
            "Enter the number : 11\n",
            "Enter the number : 12\n",
            "Enter the number : 8\n",
            "Enter the number : 6\n",
            "Enter the number : 9\n",
            "Enter the number : 17\n",
            "Enter the number : 9\n",
            "Enter the number : 5\n",
            "Enter the number : 7\n",
            "Enter the number : 28\n",
            "The sum of the prime numbers:  43\n",
            "The prime numbers :   3 11 17 5 7 "
          ]
        }
      ]
    }
  ]
}