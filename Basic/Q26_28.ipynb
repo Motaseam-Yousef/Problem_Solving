{
  "nbformat": 4,
  "nbformat_minor": 0,
  "metadata": {
    "colab": {
      "name": "Q26_28.ipynb",
      "provenance": []
    },
    "kernelspec": {
      "name": "python3",
      "display_name": "Python 3"
    },
    "language_info": {
      "name": "python"
    }
  },
  "cells": [
    {
      "cell_type": "markdown",
      "source": [
        "Q26: Write a program to define one lambda function which\n",
        "accepts one parameter and return cube of that number.\n",
        "\n",
        "Input : 4\n",
        "\n",
        "Output : 64"
      ],
      "metadata": {
        "id": "-dd8vYr0FjXJ"
      }
    },
    {
      "cell_type": "code",
      "source": [
        "n=int(input(\"Enter a number : \"))\n",
        "\n",
        "cube=lambda a:a**3\n",
        "print(cube(n))"
      ],
      "metadata": {
        "colab": {
          "base_uri": "https://localhost:8080/"
        },
        "id": "Lwd_5qAvFv-w",
        "outputId": "c057db1e-e9c9-4db5-bf31-ed41daae74fc"
      },
      "execution_count": 3,
      "outputs": [
        {
          "output_type": "stream",
          "name": "stdout",
          "text": [
            "Enter a number : 4\n",
            "64\n"
          ]
        }
      ]
    },
    {
      "cell_type": "markdown",
      "source": [
        "Q27: Write a program to define one lambda function which\n",
        "accepts two parameters and return its addition.\n",
        "\n",
        "Input : 4 3\n",
        "\n",
        "Output : 7"
      ],
      "metadata": {
        "id": "3DZFWLkoG1aY"
      }
    },
    {
      "cell_type": "code",
      "source": [
        "n1=int(input(\"Enter the first number : \"))\n",
        "n2=int(input(\"Enter the second number : \"))\n",
        "\n",
        "su= lambda n1,n2:n1+n2\n",
        "\n",
        "print(su(n1,n2))"
      ],
      "metadata": {
        "colab": {
          "base_uri": "https://localhost:8080/"
        },
        "id": "tkJaoUOVG4jn",
        "outputId": "33fffda0-118b-4037-97e6-607500581115"
      },
      "execution_count": 4,
      "outputs": [
        {
          "output_type": "stream",
          "name": "stdout",
          "text": [
            "Enter the first number : 4\n",
            "Enter the second number : 3\n",
            "7\n"
          ]
        }
      ]
    },
    {
      "cell_type": "markdown",
      "source": [
        "Q28: Write a program to define three functions: filter(), map() and reduce(). \n",
        "Accept n numbers from user and store it into the list.\n",
        "\n",
        "*  filter() should filter out all such numbers which are greater\n",
        "than or equal 70 and less than or equal to 90\n",
        "\n",
        "* map() function will increase each number of filtered list by 10\n",
        "\n",
        "* reduce() will return product of all mapped numbers.\n",
        "\n",
        "Enter number of elements: 12\n",
        "\n",
        "Enter elements: 7 12 45 79 60 23 67 101 34 78 104 77\n",
        "\n",
        "List after filter = [79, 78, 77] \n",
        "\n",
        "List after map = [89, 88, 87]\n",
        "\n",
        "Output of reduce = 681384"
      ],
      "metadata": {
        "id": "PHCyyDvcHfZ2"
      }
    },
    {
      "cell_type": "code",
      "source": [
        "n=int(input(\"Enter the length of the list: \"))\n",
        "ls=[]\n",
        "\n",
        "for i in range(n):\n",
        "  ls.append(int(input(\"Enter the length of the list: \")))"
      ],
      "metadata": {
        "colab": {
          "base_uri": "https://localhost:8080/"
        },
        "id": "Hm33ofzQJIi_",
        "outputId": "4f90b6d8-88ce-4ed4-ed57-979c58e3bd14"
      },
      "execution_count": 7,
      "outputs": [
        {
          "name": "stdout",
          "output_type": "stream",
          "text": [
            "Enter the length of the list: 12\n",
            "Enter the length of the list: 7\n",
            "Enter the length of the list: 12\n",
            "Enter the length of the list: 45\n",
            "Enter the length of the list: 79\n",
            "Enter the length of the list: 60\n",
            "Enter the length of the list: 23\n",
            "Enter the length of the list: 67\n",
            "Enter the length of the list: 101\n",
            "Enter the length of the list: 37\n",
            "Enter the length of the list: 78\n",
            "Enter the length of the list: 104\n",
            "Enter the length of the list: 77\n"
          ]
        }
      ]
    },
    {
      "cell_type": "code",
      "source": [
        "def filter(ls):\n",
        "  f=[] #filtered matrics\n",
        "  for i in range(len(ls)):\n",
        "    if 70<=ls[i]<=90:\n",
        "      f.append(ls[i])\n",
        "  return f\n",
        "\n",
        "def map(ls):\n",
        "  mp=[]\n",
        "  for i in range(len(ls)):\n",
        "    mp.append(ls[i]+10)\n",
        "  return mp\n",
        "\n",
        "def reduce(ls):\n",
        "  p=1\n",
        "  for i in range(len(ls)):\n",
        "    p*=ls[i]\n",
        "  return p\n"
      ],
      "metadata": {
        "id": "0CvGvoNiJfsm"
      },
      "execution_count": 11,
      "outputs": []
    },
    {
      "cell_type": "code",
      "source": [
        "print(filter(ls))\n",
        "print(map(filter(ls)))\n",
        "print(reduce(map(filter(ls))))\n",
        "#output= reduce(map(filter(ls)))\n",
        "#print(output)"
      ],
      "metadata": {
        "colab": {
          "base_uri": "https://localhost:8080/"
        },
        "id": "BBRFJh5nKLSY",
        "outputId": "ad22a0e5-f480-44e0-ab97-e3d72580d142"
      },
      "execution_count": 12,
      "outputs": [
        {
          "output_type": "stream",
          "name": "stdout",
          "text": [
            "[79, 78, 77]\n",
            "[89, 88, 87]\n",
            "681384\n"
          ]
        }
      ]
    }
  ]
}