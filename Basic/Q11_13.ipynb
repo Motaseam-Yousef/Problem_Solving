{
  "nbformat": 4,
  "nbformat_minor": 0,
  "metadata": {
    "colab": {
      "name": "Q11_13.ipynb",
      "provenance": []
    },
    "kernelspec": {
      "name": "python3",
      "display_name": "Python 3"
    },
    "language_info": {
      "name": "python"
    }
  },
  "cells": [
    {
      "cell_type": "markdown",
      "source": [
        "Q11 : Create a module named as arithmetic which contains 4\n",
        "functions as add() for addition, sub() for subtraction,\n",
        "mult() for multiplication and div() for division. All\n",
        "functions accepts two parameters as number and\n",
        "perform the operation. Write a program to test all the\n",
        "functions from arithmetic module by accepting the\n",
        "parameters from user."
      ],
      "metadata": {
        "id": "T-l4TRhHBnIc"
      }
    },
    {
      "cell_type": "code",
      "source": [
        "%%writefile arithmetic.py\n",
        "\n",
        "def add(a,b):\n",
        "   return a+b\n",
        "\n",
        "def sub(a,b):\n",
        "   return a-b\n",
        "\n",
        "def mult(a,b):\n",
        "   return a*b\n",
        "\n",
        "def div(a,b):\n",
        "   return a/b"
      ],
      "metadata": {
        "colab": {
          "base_uri": "https://localhost:8080/"
        },
        "id": "wftfOTVGCO_u",
        "outputId": "9296118a-ca2e-4169-dfb6-62e8be221940"
      },
      "execution_count": 1,
      "outputs": [
        {
          "output_type": "stream",
          "name": "stdout",
          "text": [
            "Writing arithmetic.py\n"
          ]
        }
      ]
    },
    {
      "cell_type": "code",
      "source": [
        "import arithmetic as atc"
      ],
      "metadata": {
        "id": "gqaHeNrsDi5B"
      },
      "execution_count": 7,
      "outputs": []
    },
    {
      "cell_type": "code",
      "source": [
        "x=int(input(\"Enter the First number : \"))\n",
        "y=int(input(\"Enter the Second number : \"))\n",
        "print(atc.add(x,y))\n",
        "print(atc.sub(x,y))\n",
        "print(atc.mult(x,y))\n",
        "print(atc.div(x,y))"
      ],
      "metadata": {
        "colab": {
          "base_uri": "https://localhost:8080/"
        },
        "id": "B8_w-bVcDrlD",
        "outputId": "0a427621-bdc2-43c9-a30e-c1746fc4f0a0"
      },
      "execution_count": 8,
      "outputs": [
        {
          "output_type": "stream",
          "name": "stdout",
          "text": [
            "Enter the First number : 5\n",
            "Enter the Second number : 2\n",
            "7\n",
            "3\n",
            "10\n",
            "2.5\n"
          ]
        }
      ]
    },
    {
      "cell_type": "markdown",
      "source": [
        "Q12: Write a program to accept one number n from user and\n",
        "display below pattern.\n",
        "\n",
        "Input 5\n",
        "\n",
        "Output : \n",
        "\n",
        "\"* * * * *\"\n",
        "\n",
        "\"* * * * *\"\n",
        "\n",
        "\"* * * * *\"\n",
        "\n",
        "\"* * * * *\"\n",
        "\n",
        "\"* * * * *\""
      ],
      "metadata": {
        "id": "-VrgEPK6E4GD"
      }
    },
    {
      "cell_type": "code",
      "source": [
        "num=int(input(\"Enter the number : \"))\n",
        "\n",
        "for i in range(num):\n",
        "  for j in range(num):\n",
        "    print(\"*\",end=\" \")\n",
        "  print()"
      ],
      "metadata": {
        "colab": {
          "base_uri": "https://localhost:8080/"
        },
        "id": "A9zwsz-MFaZa",
        "outputId": "550f94b9-9560-46a2-9d4f-02210c063b60"
      },
      "execution_count": 9,
      "outputs": [
        {
          "output_type": "stream",
          "name": "stdout",
          "text": [
            "Enter the number : 5\n",
            "* * * * * \n",
            "* * * * * \n",
            "* * * * * \n",
            "* * * * * \n",
            "* * * * * \n"
          ]
        }
      ]
    },
    {
      "cell_type": "markdown",
      "source": [
        "Q13: Write a program to accept one number n from user and\n",
        "find its factorial.\n",
        "\n",
        "Input : 5\n",
        "\n",
        "Output : 120"
      ],
      "metadata": {
        "id": "ADfSU25UF48k"
      }
    },
    {
      "cell_type": "code",
      "source": [
        "def factorial(x):\n",
        "  if x==1:\n",
        "    return 1\n",
        "  else:\n",
        "    return x*factorial(x-1)\n",
        "\n",
        "num=int(input(\"Enter the number : \"))\n",
        "\n",
        "print(factorial(num))"
      ],
      "metadata": {
        "colab": {
          "base_uri": "https://localhost:8080/"
        },
        "id": "RShVDS9wF7M_",
        "outputId": "28395f32-6afd-411d-f24d-1de5b993c4e8"
      },
      "execution_count": 11,
      "outputs": [
        {
          "output_type": "stream",
          "name": "stdout",
          "text": [
            "Enter the number : 5\n",
            "120\n"
          ]
        }
      ]
    }
  ]
}