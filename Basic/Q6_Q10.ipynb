{
  "nbformat": 4,
  "nbformat_minor": 0,
  "metadata": {
    "colab": {
      "name": "Q6_Q10.ipynb",
      "provenance": []
    },
    "kernelspec": {
      "name": "python3",
      "display_name": "Python 3"
    },
    "language_info": {
      "name": "python"
    }
  },
  "cells": [
    {
      "cell_type": "markdown",
      "source": [
        "Q6: Write a program which accept number from user and check\n",
        "whether that number is positive or negative or zero.\n",
        "\n",
        "Input : 11\n",
        "\n",
        "Output : Positive Number\n",
        "\n",
        "Input : -8\n",
        "\n",
        "Output : Negative Number\n",
        "\n",
        "Input : 0\n",
        "\n",
        "Output : Zero Pad"
      ],
      "metadata": {
        "id": "0CkPZrX9NMCS"
      }
    },
    {
      "cell_type": "code",
      "source": [
        "def PNZ(num):\n",
        "  if num>0:\n",
        "    print(\"Positive Number\")\n",
        "  elif num<0:\n",
        "    print(\"Negative Number\")\n",
        "  else:\n",
        "    print(\"Zero Pad\")\n"
      ],
      "metadata": {
        "id": "_q-MsggyNOkh"
      },
      "execution_count": 2,
      "outputs": []
    },
    {
      "cell_type": "code",
      "source": [
        "PNZ(int(input(\"Enter number: \")))\n",
        "PNZ(int(input(\"Enter number: \")))\n",
        "PNZ(int(input(\"Enter number: \")))"
      ],
      "metadata": {
        "colab": {
          "base_uri": "https://localhost:8080/"
        },
        "id": "sO9D8Q2zN8GG",
        "outputId": "1e5bbbe8-b2cc-4abc-f459-d5abb55215ec"
      },
      "execution_count": 4,
      "outputs": [
        {
          "output_type": "stream",
          "name": "stdout",
          "text": [
            "Enter number: 11\n",
            "Positive Number\n",
            "Enter number: -8\n",
            "Negative Number\n",
            "Enter number: 0\n",
            "Zero Pad\n"
          ]
        }
      ]
    },
    {
      "cell_type": "markdown",
      "source": [
        "Q7: Write a function that accept one number from user and\n",
        "returns True if number is divisible by 7 otherwise return\n",
        "False. Write a program to test this function."
      ],
      "metadata": {
        "id": "8ZHuqXBhOLR7"
      }
    },
    {
      "cell_type": "code",
      "source": [
        "def sevenDivider(num):\n",
        "  if num%7==0:\n",
        "    return True\n",
        "  else:\n",
        "    return False"
      ],
      "metadata": {
        "id": "GJgQTrYHOXpc"
      },
      "execution_count": 5,
      "outputs": []
    },
    {
      "cell_type": "code",
      "source": [
        "print(sevenDivider(int(input(\"Enter number : \"))))\n",
        "print(sevenDivider(int(input(\"Enter number : \"))))"
      ],
      "metadata": {
        "colab": {
          "base_uri": "https://localhost:8080/"
        },
        "id": "YCMcntgHOnyb",
        "outputId": "016f11b8-4610-4f58-c2fe-caafecb52776"
      },
      "execution_count": 7,
      "outputs": [
        {
          "output_type": "stream",
          "name": "stdout",
          "text": [
            "Enter number : 49\n",
            "True\n",
            "Enter number : 33\n",
            "False\n"
          ]
        }
      ]
    },
    {
      "cell_type": "markdown",
      "source": [
        "Q8 : Write a program to accept a number from user and\n",
        "print \"#\" on screen that number of times.\n",
        "\n",
        "Input: 5\n",
        "\n",
        "Output: # # # # #"
      ],
      "metadata": {
        "id": "ynzuPhxnO3z3"
      }
    },
    {
      "cell_type": "code",
      "source": [
        "def star(num):\n",
        "  for i in range(num):\n",
        "    print(\"#\",end=\" \")\n",
        "\n",
        "star(int(input(\"Enter number : \")))"
      ],
      "metadata": {
        "colab": {
          "base_uri": "https://localhost:8080/"
        },
        "id": "lNIQqtAwPHqy",
        "outputId": "d5d350f6-7ba2-4344-aaaa-26711a3deb44"
      },
      "execution_count": 8,
      "outputs": [
        {
          "output_type": "stream",
          "name": "stdout",
          "text": [
            "Enter number : 5\n",
            "# # # # # "
          ]
        }
      ]
    },
    {
      "cell_type": "markdown",
      "source": [
        "Q9 : Write a program which display first n even numbers on\n",
        "console.\n",
        "\n",
        "Input: 10\n",
        "\n",
        "Output : 2 4 6 8 10 12 14 16 18 20"
      ],
      "metadata": {
        "id": "dXBdvMdUPauf"
      }
    },
    {
      "cell_type": "code",
      "source": [
        "def EvenNum(num):\n",
        "  n1=2\n",
        "  for i in range(num):\n",
        "    print(n1,end=\" \")\n",
        "    n1+=2\n",
        "\n",
        "EvenNum(int(input(\"Enter number : \")))"
      ],
      "metadata": {
        "colab": {
          "base_uri": "https://localhost:8080/"
        },
        "id": "6jFDiqUNP0Ta",
        "outputId": "4ded4ec9-d047-4f25-df91-012dffaf3762"
      },
      "execution_count": 9,
      "outputs": [
        {
          "output_type": "stream",
          "name": "stdout",
          "text": [
            "Enter number : 10\n",
            "2 4 6 8 10 12 14 16 18 20 "
          ]
        }
      ]
    },
    {
      "cell_type": "markdown",
      "source": [
        "Q10: Write a program which will accept name from user and\n",
        "display length of the name entered.\n",
        "\n",
        "Input: Ahmad Mohammad\n",
        "\n",
        "Output : 14"
      ],
      "metadata": {
        "id": "hL2irJgKQ1kA"
      }
    },
    {
      "cell_type": "code",
      "source": [
        "name=input(\"Enter a name : \")\n",
        "print(len(name))"
      ],
      "metadata": {
        "colab": {
          "base_uri": "https://localhost:8080/"
        },
        "id": "et_tBddERVYR",
        "outputId": "6cc0227e-cc55-42e0-8bfc-9f8495566980"
      },
      "execution_count": 10,
      "outputs": [
        {
          "output_type": "stream",
          "name": "stdout",
          "text": [
            "Enter a name : Ahmad Mohammad\n",
            "14\n"
          ]
        }
      ]
    }
  ]
}