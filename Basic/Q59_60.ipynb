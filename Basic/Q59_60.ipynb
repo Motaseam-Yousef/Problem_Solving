{
  "nbformat": 4,
  "nbformat_minor": 0,
  "metadata": {
    "colab": {
      "name": "Q59_60.ipynb",
      "provenance": []
    },
    "kernelspec": {
      "name": "python3",
      "display_name": "Python 3"
    },
    "language_info": {
      "name": "python"
    }
  },
  "cells": [
    {
      "cell_type": "markdown",
      "source": [
        "Q59: Find longest word in the string"
      ],
      "metadata": {
        "id": "2IIJrDrs_E_7"
      }
    },
    {
      "cell_type": "code",
      "source": [
        "i=input(\"Enter your sentence : \")\n",
        " \n",
        "A=i.split(\" \")\n",
        "mx=len(A[0])\n",
        "mw=A[0]\n",
        "for i in range(len(A)):\n",
        "  if mx<len(A[i]):\n",
        "    mx=len(A[i])\n",
        "    mw=A[i]\n",
        "\n",
        "print(f\"The longest word is {mw}, its lenfth is {mx}\")\n",
        "\n"
      ],
      "metadata": {
        "colab": {
          "base_uri": "https://localhost:8080/"
        },
        "id": "tX3TP_WP_Kpp",
        "outputId": "17b9eb4c-76a7-4437-bc0c-d7a5b05e5ea0"
      },
      "execution_count": 11,
      "outputs": [
        {
          "output_type": "stream",
          "name": "stdout",
          "text": [
            "Enter your sentence : hi from jordan\n",
            "The longest word is jordan, its lenfth is 6\n"
          ]
        }
      ]
    },
    {
      "cell_type": "markdown",
      "source": [
        "Q60: Remove Charachter from string"
      ],
      "metadata": {
        "id": "_Z4F59JhATe2"
      }
    },
    {
      "cell_type": "code",
      "source": [
        "word=input(\"Enter your word : \")\n",
        "rc=input(\"Enter the Charachter want to remove : \")\n",
        "wd=\"\"\n",
        "for i in range(len(word)):\n",
        "  if word[i]!=rc:\n",
        "    wd+=word[i]\n",
        "  else:\n",
        "    continue\n",
        "\n",
        "print(wd)\n"
      ],
      "metadata": {
        "colab": {
          "base_uri": "https://localhost:8080/"
        },
        "id": "umZo_n7vAaP5",
        "outputId": "37db58b9-f391-4f52-97c1-eb973dbd5177"
      },
      "execution_count": 15,
      "outputs": [
        {
          "output_type": "stream",
          "name": "stdout",
          "text": [
            "Enter your word : aaaMaoahamaadaaa\n",
            "Enter the Charachter want to remove : a\n",
            "Mohmd\n"
          ]
        }
      ]
    }
  ]
}