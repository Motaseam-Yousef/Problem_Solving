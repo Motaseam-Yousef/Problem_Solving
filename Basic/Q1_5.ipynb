{
  "nbformat": 4,
  "nbformat_minor": 0,
  "metadata": {
    "colab": {
      "name": "Q1_5.ipynb",
      "provenance": []
    },
    "kernelspec": {
      "name": "python3",
      "display_name": "Python 3"
    },
    "language_info": {
      "name": "python"
    }
  },
  "cells": [
    {
      "cell_type": "markdown",
      "source": [
        "Q1: Write a function named as mo(). This function should\n",
        "display \"Hello from Motaseam\" on console. Write a program to\n",
        "test this function."
      ],
      "metadata": {
        "id": "XysVXgL_pnPY"
      }
    },
    {
      "cell_type": "code",
      "source": [
        "def mo():\n",
        "  print(\"Hello from Motaseam\")\n",
        "\n",
        "mo()"
      ],
      "metadata": {
        "colab": {
          "base_uri": "https://localhost:8080/"
        },
        "id": "wCz7903Epqmm",
        "outputId": "65ed226d-a287-43a9-89ef-b9312de784b0"
      },
      "execution_count": 1,
      "outputs": [
        {
          "output_type": "stream",
          "name": "stdout",
          "text": [
            "Hello from Motaseam\n"
          ]
        }
      ]
    },
    {
      "cell_type": "markdown",
      "source": [
        "Q2 : Write a function named as check_num() which accept\n",
        "one parameter as number. If number is even then it\n",
        "should display \"Even number\" otherwise display \"Odd\n",
        "number\" on console. Write a program to test this\n",
        "function."
      ],
      "metadata": {
        "id": "6vxiXipJp-Hm"
      }
    },
    {
      "cell_type": "code",
      "source": [
        "def check_num(num):\n",
        "  if num%2==0:\n",
        "    print(\"Even number\")\n",
        "  else:\n",
        "    print(\"Odd number\")\n",
        "\n",
        "check_num(int(input(\"Enter number : \")))"
      ],
      "metadata": {
        "colab": {
          "base_uri": "https://localhost:8080/"
        },
        "id": "8bgKGfwlqThJ",
        "outputId": "2929d3c7-e4c5-4622-ef52-1db3b6af4c9c"
      },
      "execution_count": 4,
      "outputs": [
        {
          "output_type": "stream",
          "name": "stdout",
          "text": [
            "Enter number : 5\n",
            "Odd number\n"
          ]
        }
      ]
    },
    {
      "cell_type": "markdown",
      "source": [
        "Q3 : Write a function named as mult() which accepts two\n",
        "numbers from user and return multiplication of that two\n",
        "numbers. Write a program to test this function.\n",
        "\n",
        "Input :11 and 5\n",
        "\n",
        "Output : 55"
      ],
      "metadata": {
        "id": "4sKbeK0TrABS"
      }
    },
    {
      "cell_type": "code",
      "source": [
        "def mult(num1,num2):\n",
        "  return num1*num2\n",
        "\n",
        "mult(int(input(\"Enter num1: \")) , int(input(\"Enter num2: \")) )"
      ],
      "metadata": {
        "colab": {
          "base_uri": "https://localhost:8080/"
        },
        "id": "On-k9ozVrWxg",
        "outputId": "f9f68e65-27fc-4be6-d97d-3e569c7c25b3"
      },
      "execution_count": 5,
      "outputs": [
        {
          "name": "stdout",
          "output_type": "stream",
          "text": [
            "Enter num1: 11\n",
            "Enter num2: 5\n"
          ]
        },
        {
          "output_type": "execute_result",
          "data": {
            "text/plain": [
              "55"
            ]
          },
          "metadata": {},
          "execution_count": 5
        }
      ]
    },
    {
      "cell_type": "markdown",
      "source": [
        "Q4 : Write a program which display n times \"Hello World!\"\n",
        "Input: 5\n",
        "Output : \n",
        "Hello World! Hello World! Hello World! Hello World! Hello World!"
      ],
      "metadata": {
        "id": "dQTKt78RsGTg"
      }
    },
    {
      "cell_type": "code",
      "source": [
        "n=int(input(\"Enter the n : \"))\n",
        "for i in range(n):\n",
        "  print(\"Hello World!\",end=\" \")"
      ],
      "metadata": {
        "colab": {
          "base_uri": "https://localhost:8080/"
        },
        "id": "sRT7dYI9sLr0",
        "outputId": "5f959dd2-3838-47a0-f964-c4941f74ebe2"
      },
      "execution_count": 7,
      "outputs": [
        {
          "output_type": "stream",
          "name": "stdout",
          "text": [
            "Enter the n : 5\n",
            "Hello World! Hello World! Hello World! Hello World! Hello World! "
          ]
        }
      ]
    },
    {
      "cell_type": "markdown",
      "source": [
        "Q5 : Write a program which display 1 to n on screen in\n",
        "reverse.\n",
        "\n",
        "Input: 10\n",
        "\n",
        "Output: 10 9 8 7 6 5 4 3 2 1"
      ],
      "metadata": {
        "id": "bol2rX5wss3E"
      }
    },
    {
      "cell_type": "code",
      "source": [
        "num=int(input(\"Enter number : \"))\n",
        "for i in range(num):\n",
        "  print(num-i,end=\" \")"
      ],
      "metadata": {
        "colab": {
          "base_uri": "https://localhost:8080/"
        },
        "id": "KGOL3KngtLwM",
        "outputId": "09cad114-a955-4699-98b2-a101031a2631"
      },
      "execution_count": 9,
      "outputs": [
        {
          "output_type": "stream",
          "name": "stdout",
          "text": [
            "Enter number : 10\n",
            "10 9 8 7 6 5 4 3 2 1 "
          ]
        }
      ]
    }
  ]
}