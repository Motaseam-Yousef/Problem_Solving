{
  "nbformat": 4,
  "nbformat_minor": 0,
  "metadata": {
    "colab": {
      "name": "Q16_20.ipynb",
      "provenance": []
    },
    "kernelspec": {
      "name": "python3",
      "display_name": "Python 3"
    },
    "language_info": {
      "name": "python"
    }
  },
  "cells": [
    {
      "cell_type": "markdown",
      "source": [
        "Q16: Write a program to accept one number n and display below\n",
        "pattern.\n",
        "\n",
        "Input :5\n",
        "\n",
        "Output :\n",
        "\n",
        "\"* * * * *\"\n",
        "\n",
        "\"* * * *\"\n",
        "\n",
        "\"* * *\"\n",
        "\n",
        "\"* *\"\n",
        "\n",
        "\"*\"\n"
      ],
      "metadata": {
        "id": "Mf72lQFoFRxO"
      }
    },
    {
      "cell_type": "code",
      "source": [
        "n=int(input((\"Enter number : \")))\n",
        "\n",
        "for i in range(n):\n",
        "  for j in range(n-i):\n",
        "    print(\"* \",end=\" \")\n",
        "  print()"
      ],
      "metadata": {
        "colab": {
          "base_uri": "https://localhost:8080/"
        },
        "id": "pJKoD-vyFwlg",
        "outputId": "62a900a0-b4f6-430b-cb40-4990307281fd"
      },
      "execution_count": 2,
      "outputs": [
        {
          "output_type": "stream",
          "name": "stdout",
          "text": [
            "Enter number : 5\n",
            "*  *  *  *  *  \n",
            "*  *  *  *  \n",
            "*  *  *  \n",
            "*  *  \n",
            "*  \n"
          ]
        }
      ]
    },
    {
      "cell_type": "markdown",
      "source": [
        "Q17: Write a program to accept one number n and display below\n",
        "pattern.\n",
        "\n",
        "Input :5\n",
        "\n",
        "Output:\n",
        "\n",
        "12345\n",
        "\n",
        "12345\n",
        "\n",
        "12345\n",
        "\n",
        "12345"
      ],
      "metadata": {
        "id": "IenQbkFpGO-5"
      }
    },
    {
      "cell_type": "code",
      "source": [
        "n=int(input((\"Enter number : \")))\n",
        "\n",
        "for i in range(n-1):\n",
        "  for j in range(1,n+1):\n",
        "    print(j,end=\" \")\n",
        "  print()"
      ],
      "metadata": {
        "colab": {
          "base_uri": "https://localhost:8080/"
        },
        "id": "mLdmMcysGr3a",
        "outputId": "4379a107-d678-4685-8af3-ef39302ada7d"
      },
      "execution_count": 4,
      "outputs": [
        {
          "output_type": "stream",
          "name": "stdout",
          "text": [
            "Enter number : 5\n",
            "1 2 3 4 5 \n",
            "1 2 3 4 5 \n",
            "1 2 3 4 5 \n",
            "1 2 3 4 5 \n"
          ]
        }
      ]
    },
    {
      "cell_type": "markdown",
      "source": [
        "Q18: Write a program to accepts one number n and display below\n",
        "pattern.\n",
        "\n",
        "Input :5\n",
        "\n",
        "Output : \n",
        "\n",
        "1\n",
        "\n",
        "1 2\n",
        "\n",
        "1 2 3\n",
        "\n",
        "1 2 3 4\n",
        "\n",
        "1 2 3 4 5"
      ],
      "metadata": {
        "id": "rjyG-zfLHUcI"
      }
    },
    {
      "cell_type": "code",
      "source": [
        "n=int(input((\"Enter number : \")))\n",
        "\n",
        "for i in range(n+1):\n",
        "  for j in range(1,i+1):\n",
        "    print(j,end=\" \")\n",
        "  print()"
      ],
      "metadata": {
        "colab": {
          "base_uri": "https://localhost:8080/"
        },
        "id": "CNF4XaubHaFz",
        "outputId": "0114e87f-7099-4fe7-f261-ed9ae251fde9"
      },
      "execution_count": 6,
      "outputs": [
        {
          "output_type": "stream",
          "name": "stdout",
          "text": [
            "Enter number : 5\n",
            "\n",
            "1 \n",
            "1 2 \n",
            "1 2 3 \n",
            "1 2 3 4 \n",
            "1 2 3 4 5 \n"
          ]
        }
      ]
    },
    {
      "cell_type": "markdown",
      "source": [
        "Q19: Write a program to accept number n from user and\n",
        "return number of digits in that number.\n",
        "\n",
        "Input : 5187934\n",
        "\n",
        "Output : 7"
      ],
      "metadata": {
        "id": "AUp7b6cJH6l2"
      }
    },
    {
      "cell_type": "code",
      "source": [
        "n=input(\"Enter number : \")\n",
        "print(len(n))"
      ],
      "metadata": {
        "colab": {
          "base_uri": "https://localhost:8080/"
        },
        "id": "rkuLw4XoH8s3",
        "outputId": "e7166c42-b3c2-4924-f8b9-7db44e65ef90"
      },
      "execution_count": 7,
      "outputs": [
        {
          "output_type": "stream",
          "name": "stdout",
          "text": [
            "Enter number : 5187934\n",
            "7\n"
          ]
        }
      ]
    },
    {
      "cell_type": "markdown",
      "source": [
        "Q20: Write a program to accept number n from user and\n",
        "return addition of digits in that number.\n",
        "\n",
        "Input : 5187934\n",
        "\n",
        "Output : 37"
      ],
      "metadata": {
        "id": "6neKCTyhIWS8"
      }
    },
    {
      "cell_type": "code",
      "source": [
        "n=input(\"Enter number : \")\n",
        "\n",
        "ls=[]\n",
        "for i in range(len(n)):\n",
        "  ls.append(int(n[i]))\n",
        "\n",
        "sum(ls)"
      ],
      "metadata": {
        "colab": {
          "base_uri": "https://localhost:8080/"
        },
        "id": "GcbPggYNIaMB",
        "outputId": "96f89b4b-10fb-4223-9a02-6b76a6cea8bb"
      },
      "execution_count": 26,
      "outputs": [
        {
          "name": "stdout",
          "output_type": "stream",
          "text": [
            "Enter number : 5187934\n"
          ]
        },
        {
          "output_type": "execute_result",
          "data": {
            "text/plain": [
              "37"
            ]
          },
          "metadata": {},
          "execution_count": 26
        }
      ]
    }
  ]
}