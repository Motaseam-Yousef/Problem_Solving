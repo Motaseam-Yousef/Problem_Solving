{
  "nbformat": 4,
  "nbformat_minor": 0,
  "metadata": {
    "colab": {
      "name": "Q31_33.ipynb",
      "provenance": []
    },
    "kernelspec": {
      "name": "python3",
      "display_name": "Python 3"
    },
    "language_info": {
      "name": "python"
    }
  },
  "cells": [
    {
      "cell_type": "markdown",
      "source": [
        "Q31: Write a function that accepts one string from user and print all\n",
        "permutations of that string. Write main program to test this\n",
        "function.\n",
        "\n",
        "Input : ABC\n",
        "\n",
        "Output : ABC ACB BAC BCA CAB CBA"
      ],
      "metadata": {
        "id": "w6wwZfc_5aSw"
      }
    },
    {
      "cell_type": "code",
      "source": [
        "from itertools import permutations\n",
        " \n",
        "perm = permutations(input(\"Enter string: \"))\n",
        "# Print the obtained permutations\n",
        "for i in list(perm):\n",
        "  print (i,end=\" \")"
      ],
      "metadata": {
        "colab": {
          "base_uri": "https://localhost:8080/"
        },
        "id": "VlO-qlbw6H0G",
        "outputId": "b42a7e21-8d74-484c-a367-bdea6ec7dbd6"
      },
      "execution_count": 17,
      "outputs": [
        {
          "output_type": "stream",
          "name": "stdout",
          "text": [
            "Enter string: ABC\n",
            "('A', 'B', 'C') ('A', 'C', 'B') ('B', 'A', 'C') ('B', 'C', 'A') ('C', 'A', 'B') ('C', 'B', 'A') "
          ]
        }
      ]
    },
    {
      "cell_type": "markdown",
      "source": [
        "Q32: Write a function that accepts string and one position\n",
        "from user. The function should remove the character\n",
        "from that position and return modified string. Write\n",
        "main program to test this function.\n",
        "\n",
        "Input : “Learn Pythoon\"\n",
        "\n",
        "Position : 10\n",
        "\n",
        "Output : \"Learn Python\""
      ],
      "metadata": {
        "id": "L4DCGWvl7n2X"
      }
    },
    {
      "cell_type": "code",
      "source": [
        "st=input(\"Enter the string: \")\n",
        "position=int(input(\"Enter the position: \"))\n",
        "\n",
        "def rem(st,po):\n",
        "  out=\"\"\n",
        "  for i in range(len(st)):\n",
        "    if i!=po:\n",
        "      out+=st[i]\n",
        "    else:\n",
        "      continue\n",
        "  return out\n",
        "\n",
        "print(rem(st,position))"
      ],
      "metadata": {
        "colab": {
          "base_uri": "https://localhost:8080/"
        },
        "id": "w66uBceD7xYP",
        "outputId": "09d93f4d-76de-40c2-e328-5ccfc2b1cadc"
      },
      "execution_count": 18,
      "outputs": [
        {
          "output_type": "stream",
          "name": "stdout",
          "text": [
            "Enter the string: Learn Pythoon\n",
            "Enter the position: 10\n",
            "Learn Python\n"
          ]
        }
      ]
    },
    {
      "cell_type": "markdown",
      "source": [
        "Q33: Write a function to accept string from user and return average of\n",
        "ASCII value of characters from that string. Write main program to\n",
        "vty md mie Lara te lan\n",
        "\n",
        "Input : \"ABC\"\n",
        "\n",
        "Output : 66 ((65+66+67)/3)"
      ],
      "metadata": {
        "id": "eF_YO32n821V"
      }
    },
    {
      "cell_type": "code",
      "source": [
        "strin=input(\"Enter the string: \")\n",
        "\n",
        "def sum_ASCII(st):\n",
        "  s=0\n",
        "  for i in range(len(st)):\n",
        "    s+=ord(strin[i])\n",
        "  return s/len(st)\n",
        "\n",
        "print(sum_ASCII(strin))"
      ],
      "metadata": {
        "colab": {
          "base_uri": "https://localhost:8080/"
        },
        "id": "fCvVTVID850Y",
        "outputId": "ca2a3e29-a500-4672-849b-2d360faa4cd4"
      },
      "execution_count": 27,
      "outputs": [
        {
          "output_type": "stream",
          "name": "stdout",
          "text": [
            "Enter the string: ABC\n",
            "66.0\n"
          ]
        }
      ]
    }
  ]
}